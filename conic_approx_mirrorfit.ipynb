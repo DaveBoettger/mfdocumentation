{
 "cells": [
  {
   "cell_type": "markdown",
   "metadata": {},
   "source": [
    "This notebook will derive certain elements of how conic locations and errors are estimated in mirrorfit based on 3D point locations and their associated errors."
   ]
  },
  {
   "cell_type": "code",
   "execution_count": 9,
   "metadata": {},
   "outputs": [],
   "source": [
    "import sympy as sp\n",
    "import numpy as np\n",
    "import matplotlib.pyplot as plt\n",
    "sp.init_printing()"
   ]
  },
  {
   "cell_type": "markdown",
   "metadata": {},
   "source": [
    "# Z-Projection"
   ]
  },
  {
   "cell_type": "markdown",
   "metadata": {},
   "source": [
    "We start off with projecting our measured onto the conic along the $Z$-axis. This requires us to calculate the $Z$ coordinate from $X$ and $Y$. \n",
    "\n",
    "$conz$ will be our equation for the $Z$ value of our conic evaluated at a distance $r=\\sqrt{X^2+Y^2}$ from the origin. The symmetry of the conic allows us to use r instead of $X$ and $Y$ individually."
   ]
  },
  {
   "cell_type": "markdown",
   "metadata": {},
   "source": [
    "We start off defining symbols we'll use to describe the conics as well as some assumptions we make about them:"
   ]
  },
  {
   "cell_type": "code",
   "execution_count": 192,
   "metadata": {},
   "outputs": [],
   "source": [
    "k,R = sp.symbols('k R', real=True)\n",
    "r = sp.symbols('r', real=True, positive=True)"
   ]
  },
  {
   "cell_type": "code",
   "execution_count": 193,
   "metadata": {},
   "outputs": [],
   "source": [
    "c=1/R"
   ]
  },
  {
   "cell_type": "code",
   "execution_count": 194,
   "metadata": {},
   "outputs": [],
   "source": [
    "conz = sp.simplify((c*r**2) / (1 + sp.sqrt(1-(1+k)*c**2*r**2)))"
   ]
  },
  {
   "cell_type": "code",
   "execution_count": 195,
   "metadata": {},
   "outputs": [
    {
     "data": {
      "image/png": "[encoded data removed]",
      "text/latex": [
       "$$\\frac{r^{2} \\left|{R}\\right|}{R \\left(\\sqrt{R^{2} - r^{2} \\left(k + 1\\right)} + \\left|{R}\\right|\\right)}$$"
      ],
      "text/plain": [
       "             2                \n",
       "            r ⋅│R│            \n",
       "──────────────────────────────\n",
       "  ⎛   _________________      ⎞\n",
       "  ⎜  ╱  2    2               ⎟\n",
       "R⋅⎝╲╱  R  - r ⋅(k + 1)  + │R│⎠"
      ]
     },
     "execution_count": 195,
     "metadata": {},
     "output_type": "execute_result"
    }
   ],
   "source": [
    "conz"
   ]
  },
  {
   "cell_type": "markdown",
   "metadata": {},
   "source": [
    "If we say a test point exists at ($X_0$, $Y_0$, $Z_0$), we can now calculate $d_Z$, the $Z$ distance between our point and the conic by evaluating $Z_0 - conz(r)$ but this distance overestimates the distance between the point and the conic. What we do instead is linearize the conic at the $Z$ projection point and then calculate the distance to the plane representing this linearization. \n",
    "\n",
    "To linearize we need the gradient of the conic at our evaluation point, which is just $\\frac{d conz}{dr}$ again because of symmetry, so the problem is effectively two dimensional:"
   ]
  },
  {
   "cell_type": "code",
   "execution_count": 208,
   "metadata": {},
   "outputs": [],
   "source": [
    "gradconz = sp.simplify(sp.diff(conz, r))"
   ]
  },
  {
   "cell_type": "code",
   "execution_count": 209,
   "metadata": {},
   "outputs": [
    {
     "data": {
      "image/png": "[encoded data removed]",
      "text/latex": [
       "$$\\frac{r \\left(r^{2} \\left(k + 1\\right) + 2 \\sqrt{R^{2} - r^{2} \\left(k + 1\\right)} \\left(\\sqrt{R^{2} - r^{2} \\left(k + 1\\right)} + \\left|{R}\\right|\\right)\\right) \\left|{R}\\right|}{R \\sqrt{R^{2} - r^{2} \\left(k + 1\\right)} \\left(\\sqrt{R^{2} - r^{2} \\left(k + 1\\right)} + \\left|{R}\\right|\\right)^{2}}$$"
      ],
      "text/plain": [
       "  ⎛                  _________________ ⎛   _________________      ⎞⎞    \n",
       "  ⎜ 2               ╱  2    2          ⎜  ╱  2    2               ⎟⎟    \n",
       "r⋅⎝r ⋅(k + 1) + 2⋅╲╱  R  - r ⋅(k + 1) ⋅⎝╲╱  R  - r ⋅(k + 1)  + │R│⎠⎠⋅│R│\n",
       "────────────────────────────────────────────────────────────────────────\n",
       "                                                             2          \n",
       "               _________________ ⎛   _________________      ⎞           \n",
       "              ╱  2    2          ⎜  ╱  2    2               ⎟           \n",
       "          R⋅╲╱  R  - r ⋅(k + 1) ⋅⎝╲╱  R  - r ⋅(k + 1)  + │R│⎠           "
      ]
     },
     "execution_count": 209,
     "metadata": {},
     "output_type": "execute_result"
    }
   ],
   "source": [
    "gradconz"
   ]
  },
  {
   "cell_type": "markdown",
   "metadata": {},
   "source": [
    "To find our minimum distance $d_{min}$ to the linearized plane, we must find the length of the normal vector running from the plane to the point. \n",
    "\n",
    "To do this, we can imagine a triangle formed by the slope (gradient) we just calculated as $\\frac{rise}{run}$ such that we have our \"rise\" of $gradconz(r)$ when our \"run\" is $1$. This triangle is similar to the triangle formed by the $Z$ projection distance from the point to the conic, the normal vector that runs from the linearized plane to the point (which is the minimum distance from the point to the plane), and the line connecting these two that runs along the linearized plane. This gives us a ratio equation involving $d_{min}$:\n",
    "\n",
    "$$\\frac{\\sqrt{gradconz^2 + 1}}{1} = \\frac{d_Z}{d_{min}}$$\n",
    "\n",
    "yielding: \n",
    "\n",
    "$$d_{min} = \\frac{d_Z}{\\sqrt{gradconz^2+1}}$$\n",
    "\n",
    "We can think of this as a scale factor $S$ that we apply to $d_Z$:\n",
    "\n",
    "$S(r) = \\frac{1}{\\sqrt{gradconz(r)^2+1}}$\n",
    "\n",
    "such that finally:\n",
    "\n",
    "$d_{min}(r) = S(r) d_Z(r)$\n"
   ]
  },
  {
   "cell_type": "code",
   "execution_count": 210,
   "metadata": {},
   "outputs": [
    {
     "data": {
      "image/png": "[encoded data removed]",
      "text/latex": [
       "$$\\sqrt{\\frac{- R^{2} + k r^{2} + r^{2}}{- R^{2} + k r^{2}}}$$"
      ],
      "text/plain": [
       "      __________________\n",
       "     ╱    2      2    2 \n",
       "    ╱  - R  + k⋅r  + r  \n",
       "   ╱   ──────────────── \n",
       "  ╱         2      2    \n",
       "╲╱       - R  + k⋅r     "
      ]
     },
     "execution_count": 210,
     "metadata": {},
     "output_type": "execute_result"
    }
   ],
   "source": [
    "S = sp.symbols('S')\n",
    "S=sp.sqrt(sp.factor(sp.simplify(1 / (gradconz**2+1))))\n",
    "S"
   ]
  },
  {
   "cell_type": "markdown",
   "metadata": {},
   "source": [
    "So we end up with the scale factor as:\n",
    "\n",
    "$$S = \\sqrt{\\frac{r^2(k+1)-R^2}{kr^2-R^2}}$$"
   ]
  },
  {
   "cell_type": "markdown",
   "metadata": {},
   "source": [
    "## Error Analysis"
   ]
  },
  {
   "cell_type": "markdown",
   "metadata": {},
   "source": [
    "# Radial projection"
   ]
  },
  {
   "cell_type": "code",
   "execution_count": 199,
   "metadata": {},
   "outputs": [],
   "source": [
    "S2 = sp.sqrt(1 / (gradconz**2+1))"
   ]
  },
  {
   "cell_type": "code",
   "execution_count": 204,
   "metadata": {},
   "outputs": [
    {
     "data": {
      "image/png": "[encoded data removed]",
      "text/latex": [
       "$$1.61800649171624 i$$"
      ],
      "text/plain": [
       "1.61800649171624⋅ⅈ"
      ]
     },
     "execution_count": 204,
     "metadata": {},
     "output_type": "execute_result"
    }
   ],
   "source": [
    "S.subs(k,-.1).subs(R,42).subs(r,100)"
   ]
  },
  {
   "cell_type": "code",
   "execution_count": 203,
   "metadata": {},
   "outputs": [
    {
     "data": {
      "image/png": "[encoded data removed]",
      "text/latex": [
       "$$\\frac{i}{\\sqrt{-1 + \\frac{1.38197899391929 \\left(9000.0 + 170.129362545094 i \\left(42 + 85.0646812725469 i\\right)\\right)^{2}}{\\left(42 + 85.0646812725469 i\\right)^{4}}}}$$"
      ],
      "text/plain": [
       "                                          ⅈ                                   \n",
       "──────────────────────────────────────────────────────────────────────────────\n",
       "      ________________________________________________________________________\n",
       "     ╱                                                                        \n",
       "    ╱       1.38197899391929⋅(9000.0 + 170.129362545094⋅ⅈ⋅(42 + 85.06468127254\n",
       "   ╱   -1 + ──────────────────────────────────────────────────────────────────\n",
       "  ╱                                                          4                \n",
       "╲╱                                  (42 + 85.0646812725469⋅ⅈ)                 \n",
       "\n",
       "        \n",
       "────────\n",
       "________\n",
       "      2 \n",
       "69⋅ⅈ))  \n",
       "─────── \n",
       "        \n",
       "        "
      ]
     },
     "execution_count": 203,
     "metadata": {},
     "output_type": "execute_result"
    }
   ],
   "source": [
    "S2.subs(k,-.1).subs(R,42).subs(r,100)"
   ]
  },
  {
   "cell_type": "code",
   "execution_count": 207,
   "metadata": {},
   "outputs": [
    {
     "data": {
      "image/png": "[encoded data removed]",
      "text/latex": [
       "$$1.11022302462516 \\cdot 10^{-16}$$"
      ],
      "text/plain": [
       "1.11022302462516e-16"
      ]
     },
     "execution_count": 207,
     "metadata": {},
     "output_type": "execute_result"
    }
   ],
   "source": [
    "sp.N((S-S2).subs(k,-0.154749).subs(R, -107.4339).subs(r,100))"
   ]
  },
  {
   "cell_type": "code",
   "execution_count": 191,
   "metadata": {},
   "outputs": [
    {
     "data": {
      "image/png": "[encoded data removed]",
      "text/latex": [
       "$$0$$"
      ],
      "text/plain": [
       "0"
      ]
     },
     "execution_count": 191,
     "metadata": {},
     "output_type": "execute_result"
    }
   ],
   "source": [
    "(sp.sqrt(1/(1+x)) - 1/sp.sqrt(1+x)).subs(x,500)"
   ]
  },
  {
   "cell_type": "code",
   "execution_count": null,
   "metadata": {},
   "outputs": [],
   "source": []
  }
 ],
 "metadata": {
  "kernelspec": {
   "display_name": "Python 3",
   "language": "python",
   "name": "python3"
  },
  "language_info": {
   "codemirror_mode": {
    "name": "ipython",
    "version": 3
   },
   "file_extension": ".py",
   "mimetype": "text/x-python",
   "name": "python",
   "nbconvert_exporter": "python",
   "pygments_lexer": "ipython3",
   "version": "3.6.8"
  }
 },
 "nbformat": 4,
 "nbformat_minor": 2
}
