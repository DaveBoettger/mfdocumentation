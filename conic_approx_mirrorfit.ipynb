{
 "cells": [
  {
   "cell_type": "markdown",
   "metadata": {},
   "source": [
    "This notebook derives certain elements of how conic locations and errors are estimated in mirrorfit based on 3D point locations and their associated errors.\n",
    "\n",
    "The basic idea in every case is to find distances between measured points and the theoretical conic surface. This is done by projecting the point onto the conic, linearizing the conic at the projected point, and finding the distance between the point and the plane created by the linearization. \n",
    "\n",
    "In each case we assume we have been given a point ($X_0$, $Y_0$, $Z_0$) and associated errors ($\\sigma_X$, $\\sigma_Y$, $\\sigma_Z$).\n",
    "\n",
    "Below we derive results for two projection schemes, $Z$-projection and radial projection."
   ]
  },
  {
   "cell_type": "code",
   "execution_count": 1,
   "metadata": {},
   "outputs": [],
   "source": [
    "import sympy as sp\n",
    "import numpy as np\n",
    "import matplotlib.pyplot as plt\n",
    "sp.init_printing()"
   ]
  },
  {
   "cell_type": "code",
   "execution_count": 2,
   "metadata": {},
   "outputs": [],
   "source": [
    "x0,y0,z0,sx0,sy0,sz0 = sp.symbols('X_{0} Y_{0} Z_{0} \\sigma_{X_0} \\sigma_{Y_0} \\sigma_{Z_0}', real=True)"
   ]
  },
  {
   "cell_type": "markdown",
   "metadata": {},
   "source": [
    "# $Z$-Projection"
   ]
  },
  {
   "cell_type": "markdown",
   "metadata": {},
   "source": [
    "We start off with projecting our measured onto the conic along the $Z$-axis. This requires us to calculate the $Z$ coordinate from $X$ and $Y$. \n",
    "\n",
    "$conz$ will be our function for the $Z$ value of our conic evaluated at a distance $\\rho=\\sqrt{X^2+Y^2}$ from the origin on the $XY$-plane (we similarly define $\\rho_0=\\sqrt{X_0^2+Y_0^2}$). The symmetry of the conic allows us to use $\\rho$ instead of $X$ and $Y$ individually."
   ]
  },
  {
   "cell_type": "markdown",
   "metadata": {},
   "source": [
    "We start off defining symbols we'll use to describe the conics as well as some assumptions we make about them:"
   ]
  },
  {
   "cell_type": "code",
   "execution_count": 3,
   "metadata": {},
   "outputs": [],
   "source": [
    "k,R = sp.symbols('k R', real=True)\n",
    "rho, rho0, srho0 = sp.symbols('\\\\rho \\\\rho_{0} \\sigma_{\\\\rho_0}', real=True, positive=True)"
   ]
  },
  {
   "cell_type": "code",
   "execution_count": 4,
   "metadata": {},
   "outputs": [],
   "source": [
    "c=1/R"
   ]
  },
  {
   "cell_type": "code",
   "execution_count": 28,
   "metadata": {},
   "outputs": [],
   "source": [
    "conz = (c*rho**2) / (1 + sp.sqrt(1-(1+k)*c**2*rho**2))"
   ]
  },
  {
   "cell_type": "code",
   "execution_count": 29,
   "metadata": {},
   "outputs": [
    {
     "data": {
      "image/png": "[encoded data removed]",
      "text/latex": [
       "$$\\frac{\\rho^{2}}{R \\left(\\sqrt{1 - \\frac{\\rho^{2} \\left(k + 1\\right)}{R^{2}}} + 1\\right)}$$"
      ],
      "text/plain": [
       "                  2              \n",
       "              \\rho               \n",
       "─────────────────────────────────\n",
       "  ⎛      ___________________    ⎞\n",
       "  ⎜     ╱         2             ⎟\n",
       "  ⎜    ╱      \\rho ⋅(k + 1)     ⎟\n",
       "R⋅⎜   ╱   1 - ─────────────  + 1⎟\n",
       "  ⎜  ╱               2          ⎟\n",
       "  ⎝╲╱               R           ⎠"
      ]
     },
     "execution_count": 29,
     "metadata": {},
     "output_type": "execute_result"
    }
   ],
   "source": [
    "conz"
   ]
  },
  {
   "cell_type": "markdown",
   "metadata": {},
   "source": [
    "We can now calculate $d_{Z_0}$, which we define as the $Z$ distance between our point and the conic, by evaluating $Z_0 - conz(\\rho_0)$ but this distance overestimates the distance between the point and the conic. What we want to do in addition is linearize the conic at the $Z$ projection point and then calculate the distance to the plane representing this linearization. \n",
    "\n",
    "To linearize we need the gradient of the conic at our evaluation point, which is just $\\frac{d conz}{d\\rho}$ again because of symmetry, so the problem is effectively two dimensional:"
   ]
  },
  {
   "cell_type": "code",
   "execution_count": 30,
   "metadata": {},
   "outputs": [
    {
     "data": {
      "image/png": "[encoded data removed]",
      "text/latex": [
       "$$Z_{0} - \\frac{\\rho_{0}^{2}}{R \\left(\\sqrt{1 - \\frac{\\rho_{0}^{2} \\left(k + 1\\right)}{R^{2}}} + 1\\right)}$$"
      ],
      "text/plain": [
       "                              2              \n",
       "                      \\rho_{0}               \n",
       "Z_{0} - ─────────────────────────────────────\n",
       "          ⎛      _______________________    ⎞\n",
       "          ⎜     ╱             2             ⎟\n",
       "          ⎜    ╱      \\rho_{0} ⋅(k + 1)     ⎟\n",
       "        R⋅⎜   ╱   1 - ─────────────────  + 1⎟\n",
       "          ⎜  ╱                 2            ⎟\n",
       "          ⎝╲╱                 R             ⎠"
      ]
     },
     "execution_count": 30,
     "metadata": {},
     "output_type": "execute_result"
    }
   ],
   "source": [
    "dz0 = z0-conz.subs(rho,rho0)\n",
    "dz0"
   ]
  },
  {
   "cell_type": "code",
   "execution_count": 31,
   "metadata": {},
   "outputs": [],
   "source": [
    "gradconz = sp.simplify(sp.diff(conz, rho))"
   ]
  },
  {
   "cell_type": "code",
   "execution_count": 32,
   "metadata": {},
   "outputs": [
    {
     "data": {
      "image/png": "[encoded data removed]",
      "text/latex": [
       "$$\\frac{\\rho \\left(\\rho^{2} \\left(k + 1\\right) + 2 \\sqrt{R^{2} - \\rho^{2} \\left(k + 1\\right)} \\left(\\sqrt{R^{2} - \\rho^{2} \\left(k + 1\\right)} + \\left|{R}\\right|\\right)\\right) \\left|{R}\\right|}{R \\sqrt{R^{2} - \\rho^{2} \\left(k + 1\\right)} \\left(\\sqrt{R^{2} - \\rho^{2} \\left(k + 1\\right)} + \\left|{R}\\right|\\right)^{2}}$$"
      ],
      "text/plain": [
       "     ⎛                     ____________________ ⎛   ____________________      \n",
       "     ⎜    2               ╱  2       2          ⎜  ╱  2       2               \n",
       "\\rho⋅⎝\\rho ⋅(k + 1) + 2⋅╲╱  R  - \\rho ⋅(k + 1) ⋅⎝╲╱  R  - \\rho ⋅(k + 1)  + │R│\n",
       "──────────────────────────────────────────────────────────────────────────────\n",
       "                                                                      2       \n",
       "                  ____________________ ⎛   ____________________      ⎞        \n",
       "                 ╱  2       2          ⎜  ╱  2       2               ⎟        \n",
       "             R⋅╲╱  R  - \\rho ⋅(k + 1) ⋅⎝╲╱  R  - \\rho ⋅(k + 1)  + │R│⎠        \n",
       "\n",
       "⎞⎞    \n",
       "⎟⎟    \n",
       "⎠⎠⋅│R│\n",
       "──────\n",
       "      \n",
       "      \n",
       "      \n",
       "      "
      ]
     },
     "execution_count": 32,
     "metadata": {},
     "output_type": "execute_result"
    }
   ],
   "source": [
    "gradconz"
   ]
  },
  {
   "cell_type": "markdown",
   "metadata": {},
   "source": [
    "To find our minimum distance $d_{min}$ to the linearized plane, we must find the length of the normal vector running from the plane to the point. \n",
    "\n",
    "To do this, we can imagine a triangle formed by the slope (gradient) we just calculated as $\\frac{rise}{run}$ such that we have our \"rise\" of $gradconz(\\rho)$ when our \"run\" is $1$. This triangle is geometrically similar to the triangle formed by the $Z$ projection distance from the point to the conic, the normal vector that runs from the linearized plane to the point (which is the minimum distance from the point to the plane), and the line connecting these two that runs along the linearized plane. This gives us a ratio equation involving $d_{min}$:\n",
    "\n",
    "$$\\frac{\\sqrt{gradconz^2 + 1}}{1} = \\frac{d_Z}{d_{min}},$$\n",
    "\n",
    "yielding: \n",
    "\n",
    "$$d_{min} = \\frac{d_Z}{\\sqrt{gradconz^2+1}}.$$\n",
    "\n",
    "We can think of this as a scale factor $S$ that we apply to $d_Z$:\n",
    "\n",
    "$$S(\\rho) = \\frac{1}{\\sqrt{gradconz(\\rho)^2+1}},$$\n",
    "\n",
    "such that finally:\n",
    "\n",
    "$$d_{min}(\\rho) = S(\\rho) d_Z(\\rho).$$\n"
   ]
  },
  {
   "cell_type": "code",
   "execution_count": 33,
   "metadata": {},
   "outputs": [
    {
     "data": {
      "image/png": "[encoded data removed]",
      "text/latex": [
       "$$\\sqrt{\\frac{R^{2} - \\rho^{2} k - \\rho^{2}}{R^{2} - \\rho^{2} k}}$$"
      ],
      "text/plain": [
       "      ______________________\n",
       "     ╱  2       2         2 \n",
       "    ╱  R  - \\rho ⋅k - \\rho  \n",
       "   ╱   ──────────────────── \n",
       "  ╱         2       2       \n",
       "╲╱         R  - \\rho ⋅k     "
      ]
     },
     "execution_count": 33,
     "metadata": {},
     "output_type": "execute_result"
    }
   ],
   "source": [
    "S = sp.symbols('S')\n",
    "S=sp.simplify(sp.sqrt(sp.factor(sp.simplify(1 / (gradconz**2+1)))))\n",
    "S"
   ]
  },
  {
   "cell_type": "markdown",
   "metadata": {},
   "source": [
    "So we end up with the scale factor as:\n",
    "\n",
    "$$S = \\sqrt{\\frac{R^2 - \\rho^2(k+1)}{R^2-k\\rho^2}}$$"
   ]
  },
  {
   "cell_type": "code",
   "execution_count": 36,
   "metadata": {},
   "outputs": [
    {
     "data": {
      "image/png": "[encoded data removed]",
      "text/latex": [
       "$$\\sqrt{\\frac{R^{2} - \\rho_{0}^{2} k - \\rho_{0}^{2}}{R^{2} - \\rho_{0}^{2} k}} \\left(Z_{0} - \\frac{\\rho_{0}^{2}}{R \\left(\\sqrt{1 - \\frac{\\rho_{0}^{2} \\left(k + 1\\right)}{R^{2}}} + 1\\right)}\\right)$$"
      ],
      "text/plain": [
       "      ______________________________                                          \n",
       "     ╱  2           2             2  ⎛                              2         \n",
       "    ╱  R  - \\rho_{0} ⋅k - \\rho_{0}   ⎜                      \\rho_{0}          \n",
       "   ╱   ──────────────────────────── ⋅⎜Z_{0} - ────────────────────────────────\n",
       "  ╱           2           2          ⎜          ⎛      _______________________\n",
       "╲╱           R  - \\rho_{0} ⋅k        ⎜          ⎜     ╱             2         \n",
       "                                     ⎜          ⎜    ╱      \\rho_{0} ⋅(k + 1) \n",
       "                                     ⎜        R⋅⎜   ╱   1 - ───────────────── \n",
       "                                     ⎜          ⎜  ╱                 2        \n",
       "                                     ⎝          ⎝╲╱                 R         \n",
       "\n",
       "      \n",
       "     ⎞\n",
       "     ⎟\n",
       "─────⎟\n",
       "    ⎞⎟\n",
       "    ⎟⎟\n",
       "    ⎟⎟\n",
       " + 1⎟⎟\n",
       "    ⎟⎟\n",
       "    ⎠⎠"
      ]
     },
     "execution_count": 36,
     "metadata": {},
     "output_type": "execute_result"
    }
   ],
   "source": [
    "dmin0 = (S.subs(rho,rho0)*dz0)\n",
    "dmin0"
   ]
  },
  {
   "cell_type": "markdown",
   "metadata": {},
   "source": [
    "## Error Propagation"
   ]
  },
  {
   "cell_type": "markdown",
   "metadata": {},
   "source": [
    "We want to calculate $\\sigma_{d_{min}}$ using our point errors ($\\sigma_{X_0}$,$\\sigma_{Y_0}$,$\\sigma_{Z_0}$). Since $X$ and $Y$ only enter through $\\rho$ the first step we take is to calculate $\\sigma_{\\rho}$:"
   ]
  },
  {
   "cell_type": "code",
   "execution_count": 37,
   "metadata": {},
   "outputs": [
    {
     "data": {
      "image/png": "[encoded data removed]",
      "text/latex": [
       "$$\\sqrt{X_{0}^{2} + Y_{0}^{2}}$$"
      ],
      "text/plain": [
       "   _________________\n",
       "  ╱      2        2 \n",
       "╲╱  X_{0}  + Y_{0}  "
      ]
     },
     "execution_count": 37,
     "metadata": {},
     "output_type": "execute_result"
    }
   ],
   "source": [
    "rho_ = sp.sqrt(x0**2+y0**2)\n",
    "rho_"
   ]
  },
  {
   "cell_type": "code",
   "execution_count": 38,
   "metadata": {},
   "outputs": [
    {
     "data": {
      "image/png": "[encoded data removed]",
      "text/latex": [
       "$$\\frac{\\sqrt{X_{0}^{2} \\sigma_{X_0}^{2} + Y_{0}^{2} \\sigma_{Y_0}^{2}}}{\\sqrt{X_{0}^{2} + Y_{0}^{2}}}$$"
      ],
      "text/plain": [
       "   _____________________________________________\n",
       "  ╱      2             2        2             2 \n",
       "╲╱  X_{0} ⋅\\sigma_{X_0}  + Y_{0} ⋅\\sigma_{Y_0}  \n",
       "────────────────────────────────────────────────\n",
       "                 _________________              \n",
       "                ╱      2        2               \n",
       "              ╲╱  X_{0}  + Y_{0}                "
      ]
     },
     "execution_count": 38,
     "metadata": {},
     "output_type": "execute_result"
    }
   ],
   "source": [
    "sr = sp.simplify(sp.sqrt(sp.diff(rho_,x0)**2*sx0**2 + sp.diff(rho_,y0)**2*sy0**2))\n",
    "sr"
   ]
  },
  {
   "cell_type": "markdown",
   "metadata": {},
   "source": [
    "So that $\\sigma_{\\rho}$ is sensibly:\n",
    "\n",
    "$$\\frac{\\sqrt{X_0^2 \\sigma_{X_0}^2 + Y_0^2 \\sigma_{Y_0}^2}}{\\rho_0}$$"
   ]
  },
  {
   "cell_type": "markdown",
   "metadata": {},
   "source": [
    "Remebering that we want to compute $\\sigma_{d_{min}}$ we can write:\n",
    "\n",
    "$$\\sigma_{d_{min}} = \\Bigg( \\bigg(\\frac{\\partial d_{min}}{\\partial Z_0}\\bigg)^2 \\sigma_{Z_0}^2 + \\bigg(\\frac{\\partial d_{min}}{\\partial \\rho_0} \\bigg)^2 \\sigma_{\\rho_0}^2 \\Bigg)^{\\frac{1}{2}} $$\n",
    "\n",
    "so we can look at the two derivatives individually, remembering that $d_{min}(\\rho) = S(\\rho) d_Z(\\rho) = S(\\rho) (Z_0 - conz(\\rho))$.\n",
    "\n",
    "It is clear that:\n",
    "\n",
    "$$\\frac{\\partial d_{min}}{\\partial Z_0} = S,$$\n",
    "\n",
    "and that \n",
    "\n",
    "$$\\frac{\\partial d_{min}}{\\partial \\rho_0} = \\frac{\\partial S}{\\partial \\rho_0} d_{Z_0} - \\frac{\\partial conz}{\\partial \\rho_0} S.$$\n",
    "\n",
    "We calculate $\\frac{\\partial S}{\\partial \\rho}$ as follows:\n",
    "\n"
   ]
  },
  {
   "cell_type": "code",
   "execution_count": 47,
   "metadata": {},
   "outputs": [
    {
     "data": {
      "image/png": "[encoded data removed]",
      "text/latex": [
       "$$- \\frac{R^{2} \\rho \\sqrt{- \\frac{- R^{2} + \\rho^{2} k + \\rho^{2}}{R^{2} - \\rho^{2} k}}}{R^{4} - 2 R^{2} \\rho^{2} k - R^{2} \\rho^{2} + \\rho^{4} k^{2} + \\rho^{4} k}$$"
      ],
      "text/plain": [
       "                  ____________________________   \n",
       "                 ╱  ⎛   2       2         2⎞     \n",
       "     2          ╱  -⎝- R  + \\rho ⋅k + \\rho ⎠     \n",
       "   -R ⋅\\rho⋅   ╱   ──────────────────────────    \n",
       "              ╱            2       2             \n",
       "            ╲╱            R  - \\rho ⋅k           \n",
       "─────────────────────────────────────────────────\n",
       " 4      2     2      2     2       4  2       4  \n",
       "R  - 2⋅R ⋅\\rho ⋅k - R ⋅\\rho  + \\rho ⋅k  + \\rho ⋅k"
      ]
     },
     "execution_count": 47,
     "metadata": {},
     "output_type": "execute_result"
    }
   ],
   "source": [
    "sp.simplify((sp.diff(S,rho)))"
   ]
  },
  {
   "cell_type": "markdown",
   "metadata": {},
   "source": [
    "We get:\n",
    "$$\\frac{\\partial S}{\\partial \\rho} = \\frac{-\\rho R^2S}{R^2(R^2-\\rho^2(2k+1))+\\rho^4k(k+1)},$$\n",
    "\n",
    "which is ugly but tractable. $\\frac{\\partial conz}{\\partial \\rho}$ we have already calculated as \"$gradconz$\".\n",
    "\n",
    "Collecting terms we get:\n",
    "\n",
    "$$\\sigma_{d_{min}} = \\Bigg( S^2 \\sigma_{Z_0}^2 + \\bigg(\\frac{\\partial S}{\\partial \\rho_0} d_{Z_0} - (gradconz) S\\bigg)^2 \\sigma_{\\rho_0}^2 \\Bigg)^{\\frac{1}{2}} $$\n",
    "\n",
    "We define:\n",
    "\n",
    "$$\\gamma = \\frac{\\rho R^2}{R^2(R^2-\\rho^2(2k+1))+\\rho^4k(k+1)},$$\n",
    "\n",
    "so that:\n",
    "\n",
    "$$\\sigma_{d_{min}} = S \\Bigg( \\sigma_{Z_0}^2 + \\bigg(\\gamma d_{Z_0} + (gradconz) \\bigg)^2 \\sigma_{\\rho_0}^2 \\Bigg)^{\\frac{1}{2}} $$\n"
   ]
  },
  {
   "cell_type": "markdown",
   "metadata": {},
   "source": [
    "A bit of numerical experimentation: "
   ]
  },
  {
   "cell_type": "code",
   "execution_count": 71,
   "metadata": {},
   "outputs": [
    {
     "data": {
      "image/png": "[encoded data removed]",
      "text/latex": [
       "$$\\frac{R^{2} \\rho}{R^{4} - 2 R^{2} \\rho^{2} k - R^{2} \\rho^{2} + \\rho^{4} k^{2} + \\rho^{4} k}$$"
      ],
      "text/plain": [
       "                      2                          \n",
       "                     R ⋅\\rho                     \n",
       "─────────────────────────────────────────────────\n",
       " 4      2     2      2     2       4  2       4  \n",
       "R  - 2⋅R ⋅\\rho ⋅k - R ⋅\\rho  + \\rho ⋅k  + \\rho ⋅k"
      ]
     },
     "execution_count": 71,
     "metadata": {},
     "output_type": "execute_result"
    }
   ],
   "source": [
    "gamma = sp.simplify(-sp.simplify((sp.diff(S,rho)))/ S)\n",
    "gamma"
   ]
  },
  {
   "cell_type": "code",
   "execution_count": 159,
   "metadata": {},
   "outputs": [],
   "source": [
    "def numeric(val, Rval=4, kval=.01, rhoval=3.9):\n",
    "    return sp.N(val.subs(R, Rval).subs(k,kval).subs(rho, rhoval))"
   ]
  },
  {
   "cell_type": "code",
   "execution_count": 160,
   "metadata": {},
   "outputs": [
    {
     "data": {
      "image/png": "[encoded data removed]",
      "text/latex": [
       "$$\\left ( 6.17248815770308, \\quad 4.88301778354333, \\quad 1.2640724304764\\right )$$"
      ],
      "text/plain": [
       "(6.17248815770308, 4.88301778354333, 1.2640724304764)"
      ]
     },
     "execution_count": 160,
     "metadata": {},
     "output_type": "execute_result"
    }
   ],
   "source": [
    "numeric(gamma), numeric(gradconz), numeric(gamma) / numeric(gradconz)"
   ]
  },
  {
   "cell_type": "markdown",
   "metadata": {},
   "source": [
    "# Radial projection"
   ]
  },
  {
   "cell_type": "markdown",
   "metadata": {},
   "source": [
    "We now turn to another projection where the point is projected onto the conic via the line connecting the origin to the point. This projection will only work for $k\\gt-1$ (i.e. only for ellipses). Whereas before our origin of the coordinate system was at the tip of our conic, it will now be in the center. \n",
    "\n",
    "We want to recast our variables $R$ and $k$ in terms of the ellipse axes: \n",
    "$$r_{xy} = -\\frac{R}{k+1}$$\n",
    "\n",
    "$$r_z = \\sqrt{\\frac{R^2}{k+1}}$$"
   ]
  },
  {
   "cell_type": "code",
   "execution_count": 23,
   "metadata": {},
   "outputs": [],
   "source": [
    "rsq = sp.symbols('r^2', real=True, positive=True)"
   ]
  },
  {
   "cell_type": "code",
   "execution_count": 24,
   "metadata": {},
   "outputs": [],
   "source": [
    "rsq0 = x0**2+y0**2+z0**2"
   ]
  },
  {
   "cell_type": "code",
   "execution_count": 25,
   "metadata": {},
   "outputs": [
    {
     "data": {
      "image/png": "[encoded data removed]",
      "text/latex": [
       "$$r^{2}$$"
      ],
      "text/plain": [
       "r²"
      ]
     },
     "execution_count": 25,
     "metadata": {},
     "output_type": "execute_result"
    }
   ],
   "source": [
    "rsq"
   ]
  },
  {
   "cell_type": "code",
   "execution_count": null,
   "metadata": {},
   "outputs": [],
   "source": []
  }
 ],
 "metadata": {
  "kernelspec": {
   "display_name": "Python 3",
   "language": "python",
   "name": "python3"
  },
  "language_info": {
   "codemirror_mode": {
    "name": "ipython",
    "version": 3
   },
   "file_extension": ".py",
   "mimetype": "text/x-python",
   "name": "python",
   "nbconvert_exporter": "python",
   "pygments_lexer": "ipython3",
   "version": "3.6.8"
  }
 },
 "nbformat": 4,
 "nbformat_minor": 2
}
