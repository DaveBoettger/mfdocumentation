{
 "cells": [
  {
   "cell_type": "markdown",
   "metadata": {},
   "source": [
    "This notebook derives certain elements of how conic locations and errors are estimated in mirrorfit based on 3D point locations and their associated errors.\n",
    "\n",
    "The basic idea in every case is to find distances between measured points and the theoretical conic surface. This is done by projecting the point onto the conic, linearizing the conic at the projected point, and finding the distance between the point and the plane created by the linearization. \n",
    "\n",
    "In each case we assume we have been given a point ($X_0$, $Y_0$, $Z_0$) and associated errors ($\\sigma_X$, $\\sigma_Y$, $\\sigma_Z$).\n",
    "\n",
    "Below we derive results for two projection schemes, $Z$-projection and radial projection."
   ]
  },
  {
   "cell_type": "code",
   "execution_count": 1,
   "metadata": {},
   "outputs": [],
   "source": [
    "import sympy as sp\n",
    "import numpy as np\n",
    "import matplotlib.pyplot as plt\n",
    "sp.init_printing()"
   ]
  },
  {
   "cell_type": "code",
   "execution_count": 2,
   "metadata": {},
   "outputs": [],
   "source": [
    "x,y,z,x0,y0,z0,sx0,sy0,sz0 = sp.symbols('x,y,z,X_{0} Y_{0} Z_{0} \\sigma_{X_0} \\sigma_{Y_0} \\sigma_{Z_0}', real=True)"
   ]
  },
  {
   "cell_type": "markdown",
   "metadata": {},
   "source": [
    "# $Z$-Projection"
   ]
  },
  {
   "cell_type": "markdown",
   "metadata": {},
   "source": [
    "We start off with projecting our measured onto the conic along the $Z$-axis. This requires us to calculate the $Z$ coordinate from $X$ and $Y$. \n",
    "\n",
    "$conz$ will be our function for the $Z$ value of our conic evaluated at a distance $\\rho=\\sqrt{X^2+Y^2}$ from the origin on the $XY$-plane (we similarly define $\\rho_0=\\sqrt{X_0^2+Y_0^2}$). The symmetry of the conic allows us to use $\\rho$ instead of $X$ and $Y$ individually."
   ]
  },
  {
   "cell_type": "markdown",
   "metadata": {},
   "source": [
    "We start off defining symbols we'll use to describe the conics as well as some assumptions we make about them:"
   ]
  },
  {
   "cell_type": "code",
   "execution_count": 3,
   "metadata": {},
   "outputs": [],
   "source": [
    "k,R = sp.symbols('k R', real=True)\n",
    "rho, rho0, srho0 = sp.symbols('\\\\rho \\\\rho_{0} \\sigma_{\\\\rho_0}', real=True, positive=True)"
   ]
  },
  {
   "cell_type": "code",
   "execution_count": 4,
   "metadata": {},
   "outputs": [],
   "source": [
    "c=1/R"
   ]
  },
  {
   "cell_type": "markdown",
   "metadata": {},
   "source": [
    "$conz$ is our expression for the $z$ height of the conic.\n",
    "$conconst$ is an expression that should be constant over the surface of the conic"
   ]
  },
  {
   "cell_type": "code",
   "execution_count": 5,
   "metadata": {},
   "outputs": [],
   "source": [
    "conz = (c*rho**2) / (1 + sp.sqrt(1-(1+k)*c**2*rho**2))\n",
    "conconst = conz-z"
   ]
  },
  {
   "cell_type": "code",
   "execution_count": 6,
   "metadata": {},
   "outputs": [
    {
     "data": {
      "image/png": "[encoded data removed]",
      "text/latex": [
       "$$\\frac{\\rho^{2}}{R \\left(\\sqrt{1 - \\frac{\\rho^{2} \\left(k + 1\\right)}{R^{2}}} + 1\\right)}$$"
      ],
      "text/plain": [
       "                  2              \n",
       "              \\rho               \n",
       "─────────────────────────────────\n",
       "  ⎛      ___________________    ⎞\n",
       "  ⎜     ╱         2             ⎟\n",
       "  ⎜    ╱      \\rho ⋅(k + 1)     ⎟\n",
       "R⋅⎜   ╱   1 - ─────────────  + 1⎟\n",
       "  ⎜  ╱               2          ⎟\n",
       "  ⎝╲╱               R           ⎠"
      ]
     },
     "execution_count": 6,
     "metadata": {},
     "output_type": "execute_result"
    }
   ],
   "source": [
    "conz"
   ]
  },
  {
   "cell_type": "markdown",
   "metadata": {},
   "source": [
    "We can now calculate $d_{Z_0}$, which we define as the $Z$ distance between our point and the conic, by evaluating $Z_0 - conz(\\rho_0)$ but this distance overestimates the distance between the point and the conic. What we want to do in addition is linearize the conic at the $Z$ projection point and then calculate the distance to the plane representing this linearization. \n",
    "\n",
    "To linearize we need the gradient of the conic at our evaluation point, which is just $\\frac{d conz}{d\\rho}$ again because of symmetry, so the problem is effectively two dimensional:"
   ]
  },
  {
   "cell_type": "code",
   "execution_count": 7,
   "metadata": {},
   "outputs": [
    {
     "data": {
      "image/png": "[encoded data removed]",
      "text/latex": [
       "$$Z_{0} - \\frac{\\rho_{0}^{2}}{R \\left(\\sqrt{1 - \\frac{\\rho_{0}^{2} \\left(k + 1\\right)}{R^{2}}} + 1\\right)}$$"
      ],
      "text/plain": [
       "                              2              \n",
       "                      \\rho_{0}               \n",
       "Z_{0} - ─────────────────────────────────────\n",
       "          ⎛      _______________________    ⎞\n",
       "          ⎜     ╱             2             ⎟\n",
       "          ⎜    ╱      \\rho_{0} ⋅(k + 1)     ⎟\n",
       "        R⋅⎜   ╱   1 - ─────────────────  + 1⎟\n",
       "          ⎜  ╱                 2            ⎟\n",
       "          ⎝╲╱                 R             ⎠"
      ]
     },
     "execution_count": 7,
     "metadata": {},
     "output_type": "execute_result"
    }
   ],
   "source": [
    "dz0 = z0-conz.subs(rho,rho0)\n",
    "dz0"
   ]
  },
  {
   "cell_type": "code",
   "execution_count": 8,
   "metadata": {},
   "outputs": [],
   "source": [
    "gradconz = sp.simplify(sp.diff(conz, rho))"
   ]
  },
  {
   "cell_type": "code",
   "execution_count": 9,
   "metadata": {},
   "outputs": [
    {
     "data": {
      "image/png": "[encoded data removed]",
      "text/latex": [
       "$$\\frac{\\rho \\left(\\rho^{2} \\left(k + 1\\right) + 2 \\sqrt{R^{2} - \\rho^{2} \\left(k + 1\\right)} \\left(\\sqrt{R^{2} - \\rho^{2} \\left(k + 1\\right)} + \\left|{R}\\right|\\right)\\right) \\left|{R}\\right|}{R \\sqrt{R^{2} - \\rho^{2} \\left(k + 1\\right)} \\left(\\sqrt{R^{2} - \\rho^{2} \\left(k + 1\\right)} + \\left|{R}\\right|\\right)^{2}}$$"
      ],
      "text/plain": [
       "     ⎛                     ____________________ ⎛   ____________________      \n",
       "     ⎜    2               ╱  2       2          ⎜  ╱  2       2               \n",
       "\\rho⋅⎝\\rho ⋅(k + 1) + 2⋅╲╱  R  - \\rho ⋅(k + 1) ⋅⎝╲╱  R  - \\rho ⋅(k + 1)  + │R│\n",
       "──────────────────────────────────────────────────────────────────────────────\n",
       "                                                                      2       \n",
       "                  ____________________ ⎛   ____________________      ⎞        \n",
       "                 ╱  2       2          ⎜  ╱  2       2               ⎟        \n",
       "             R⋅╲╱  R  - \\rho ⋅(k + 1) ⋅⎝╲╱  R  - \\rho ⋅(k + 1)  + │R│⎠        \n",
       "\n",
       "⎞⎞    \n",
       "⎟⎟    \n",
       "⎠⎠⋅│R│\n",
       "──────\n",
       "      \n",
       "      \n",
       "      \n",
       "      "
      ]
     },
     "execution_count": 9,
     "metadata": {},
     "output_type": "execute_result"
    }
   ],
   "source": [
    "gradconz"
   ]
  },
  {
   "cell_type": "markdown",
   "metadata": {},
   "source": [
    "To find our minimum distance $d_{min}$ to the linearized plane, we must find the length of the normal vector running from the plane to the point. \n",
    "\n",
    "To do this, we can imagine a triangle formed by the slope (gradient) we just calculated as $\\frac{rise}{run}$ such that we have our \"rise\" of $gradconz(\\rho)$ when our \"run\" is $1$. This triangle is geometrically similar to the triangle formed by the $Z$ projection distance from the point to the conic, the normal vector that runs from the linearized plane to the point (which is the minimum distance from the point to the plane), and the line connecting these two that runs along the linearized plane. This gives us a ratio equation involving $d_{min}$:\n",
    "\n",
    "$$\\frac{\\sqrt{gradconz^2 + 1}}{1} = \\frac{d_Z}{d_{min}},$$\n",
    "\n",
    "yielding: \n",
    "\n",
    "$$d_{min} = \\frac{d_Z}{\\sqrt{gradconz^2+1}}.$$\n",
    "\n",
    "We can think of this as a scale factor $S$ that we apply to $d_Z$:\n",
    "\n",
    "$$S(\\rho) = \\frac{1}{\\sqrt{gradconz(\\rho)^2+1}},$$\n",
    "\n",
    "such that finally:\n",
    "\n",
    "$$d_{min}(\\rho) = S(\\rho) d_Z(\\rho).$$\n"
   ]
  },
  {
   "cell_type": "code",
   "execution_count": 10,
   "metadata": {},
   "outputs": [
    {
     "data": {
      "image/png": "[encoded data removed]",
      "text/latex": [
       "$$\\sqrt{\\frac{R^{2} - \\rho^{2} k - \\rho^{2}}{R^{2} - \\rho^{2} k}}$$"
      ],
      "text/plain": [
       "      ______________________\n",
       "     ╱  2       2         2 \n",
       "    ╱  R  - \\rho ⋅k - \\rho  \n",
       "   ╱   ──────────────────── \n",
       "  ╱         2       2       \n",
       "╲╱         R  - \\rho ⋅k     "
      ]
     },
     "execution_count": 10,
     "metadata": {},
     "output_type": "execute_result"
    }
   ],
   "source": [
    "S = sp.symbols('S')\n",
    "S=sp.simplify(sp.sqrt(sp.factor(sp.simplify(1 / (gradconz**2+1)))))\n",
    "S"
   ]
  },
  {
   "cell_type": "markdown",
   "metadata": {},
   "source": [
    "So we end up with the scale factor as:\n",
    "\n",
    "$$S = \\sqrt{\\frac{R^2 - \\rho^2(k+1)}{R^2-k\\rho^2}}$$"
   ]
  },
  {
   "cell_type": "code",
   "execution_count": 11,
   "metadata": {},
   "outputs": [
    {
     "data": {
      "image/png": "[encoded data removed]",
      "text/latex": [
       "$$\\sqrt{\\frac{R^{2} - \\rho_{0}^{2} k - \\rho_{0}^{2}}{R^{2} - \\rho_{0}^{2} k}} \\left(Z_{0} - \\frac{\\rho_{0}^{2}}{R \\left(\\sqrt{1 - \\frac{\\rho_{0}^{2} \\left(k + 1\\right)}{R^{2}}} + 1\\right)}\\right)$$"
      ],
      "text/plain": [
       "      ______________________________                                          \n",
       "     ╱  2           2             2  ⎛                              2         \n",
       "    ╱  R  - \\rho_{0} ⋅k - \\rho_{0}   ⎜                      \\rho_{0}          \n",
       "   ╱   ──────────────────────────── ⋅⎜Z_{0} - ────────────────────────────────\n",
       "  ╱           2           2          ⎜          ⎛      _______________________\n",
       "╲╱           R  - \\rho_{0} ⋅k        ⎜          ⎜     ╱             2         \n",
       "                                     ⎜          ⎜    ╱      \\rho_{0} ⋅(k + 1) \n",
       "                                     ⎜        R⋅⎜   ╱   1 - ───────────────── \n",
       "                                     ⎜          ⎜  ╱                 2        \n",
       "                                     ⎝          ⎝╲╱                 R         \n",
       "\n",
       "      \n",
       "     ⎞\n",
       "     ⎟\n",
       "─────⎟\n",
       "    ⎞⎟\n",
       "    ⎟⎟\n",
       "    ⎟⎟\n",
       " + 1⎟⎟\n",
       "    ⎟⎟\n",
       "    ⎠⎠"
      ]
     },
     "execution_count": 11,
     "metadata": {},
     "output_type": "execute_result"
    }
   ],
   "source": [
    "dmin0 = (S.subs(rho,rho0)*dz0)\n",
    "dmin0"
   ]
  },
  {
   "cell_type": "markdown",
   "metadata": {},
   "source": [
    "## Error Propagation"
   ]
  },
  {
   "cell_type": "markdown",
   "metadata": {},
   "source": [
    "We want to calculate $\\sigma_{d_{min}}$ using our point errors ($\\sigma_{X_0}$,$\\sigma_{Y_0}$,$\\sigma_{Z_0}$). Since $X$ and $Y$ only enter through $\\rho$ the first step we take is to calculate $\\sigma_{\\rho}$:"
   ]
  },
  {
   "cell_type": "code",
   "execution_count": 12,
   "metadata": {},
   "outputs": [
    {
     "data": {
      "image/png": "[encoded data removed]",
      "text/latex": [
       "$$\\sqrt{X_{0}^{2} + Y_{0}^{2}}$$"
      ],
      "text/plain": [
       "   _________________\n",
       "  ╱      2        2 \n",
       "╲╱  X_{0}  + Y_{0}  "
      ]
     },
     "execution_count": 12,
     "metadata": {},
     "output_type": "execute_result"
    }
   ],
   "source": [
    "rho_ = sp.sqrt(x0**2+y0**2)\n",
    "rho_"
   ]
  },
  {
   "cell_type": "code",
   "execution_count": 13,
   "metadata": {},
   "outputs": [
    {
     "data": {
      "image/png": "[encoded data removed]",
      "text/latex": [
       "$$\\frac{\\sqrt{X_{0}^{2} \\sigma_{X_0}^{2} + Y_{0}^{2} \\sigma_{Y_0}^{2}}}{\\sqrt{X_{0}^{2} + Y_{0}^{2}}}$$"
      ],
      "text/plain": [
       "   _____________________________________________\n",
       "  ╱      2             2        2             2 \n",
       "╲╱  X_{0} ⋅\\sigma_{X_0}  + Y_{0} ⋅\\sigma_{Y_0}  \n",
       "────────────────────────────────────────────────\n",
       "                 _________________              \n",
       "                ╱      2        2               \n",
       "              ╲╱  X_{0}  + Y_{0}                "
      ]
     },
     "execution_count": 13,
     "metadata": {},
     "output_type": "execute_result"
    }
   ],
   "source": [
    "sr = sp.simplify(sp.sqrt(sp.diff(rho_,x0)**2*sx0**2 + sp.diff(rho_,y0)**2*sy0**2))\n",
    "sr"
   ]
  },
  {
   "cell_type": "markdown",
   "metadata": {},
   "source": [
    "So that $\\sigma_{\\rho_0}$ is sensibly:\n",
    "\n",
    "$$\\frac{\\sqrt{X_0^2 \\sigma_{X_0}^2 + Y_0^2 \\sigma_{Y_0}^2}}{\\rho_0}$$"
   ]
  },
  {
   "cell_type": "markdown",
   "metadata": {},
   "source": [
    "Remebering that we want to compute $\\sigma_{d_{min}}$ we can write:\n",
    "\n",
    "$$\\sigma_{d_{min}} = \\Bigg( \\bigg(\\frac{\\partial d_{min}}{\\partial Z_0}\\bigg)^2 \\sigma_{Z_0}^2 + \\bigg(\\frac{\\partial d_{min}}{\\partial \\rho_0} \\bigg)^2 \\sigma_{\\rho_0}^2 \\Bigg)^{\\frac{1}{2}} $$\n",
    "\n",
    "so we can look at the two derivatives individually, remembering that $d_{min}(\\rho) = S(\\rho) d_Z(\\rho) = S(\\rho) (Z_0 - conz(\\rho))$.\n",
    "\n",
    "It is clear that:\n",
    "\n",
    "$$\\frac{\\partial d_{min}}{\\partial Z_0} = S,$$\n",
    "\n",
    "and that \n",
    "\n",
    "$$\\frac{\\partial d_{min}}{\\partial \\rho_0} = \\frac{\\partial S}{\\partial \\rho_0} d_{Z_0} - \\frac{\\partial conz}{\\partial \\rho_0} S.$$\n",
    "\n",
    "We calculate $\\frac{\\partial S}{\\partial \\rho}$ as follows:\n",
    "\n"
   ]
  },
  {
   "cell_type": "code",
   "execution_count": 14,
   "metadata": {},
   "outputs": [
    {
     "data": {
      "image/png": "[encoded data removed]",
      "text/latex": [
       "$$- \\frac{R^{2} \\rho \\sqrt{- \\frac{- R^{2} + \\rho^{2} k + \\rho^{2}}{R^{2} - \\rho^{2} k}}}{R^{4} - 2 R^{2} \\rho^{2} k - R^{2} \\rho^{2} + \\rho^{4} k^{2} + \\rho^{4} k}$$"
      ],
      "text/plain": [
       "                  ____________________________   \n",
       "                 ╱  ⎛   2       2         2⎞     \n",
       "     2          ╱  -⎝- R  + \\rho ⋅k + \\rho ⎠     \n",
       "   -R ⋅\\rho⋅   ╱   ──────────────────────────    \n",
       "              ╱            2       2             \n",
       "            ╲╱            R  - \\rho ⋅k           \n",
       "─────────────────────────────────────────────────\n",
       " 4      2     2      2     2       4  2       4  \n",
       "R  - 2⋅R ⋅\\rho ⋅k - R ⋅\\rho  + \\rho ⋅k  + \\rho ⋅k"
      ]
     },
     "execution_count": 14,
     "metadata": {},
     "output_type": "execute_result"
    }
   ],
   "source": [
    "sp.simplify((sp.diff(S,rho)))"
   ]
  },
  {
   "cell_type": "markdown",
   "metadata": {},
   "source": [
    "We get:\n",
    "$$\\frac{\\partial S}{\\partial \\rho} = \\frac{-\\rho R^2S}{R^2(R^2-\\rho^2(2k+1))+\\rho^4k(k+1)},$$\n",
    "\n",
    "which is ugly but tractable. $\\frac{\\partial conz}{\\partial \\rho}$ we have already calculated as \"$gradconz$\".\n",
    "\n",
    "Collecting terms we get:\n",
    "\n",
    "$$\\sigma_{d_{min}} = \\Bigg( S^2 \\sigma_{Z_0}^2 + \\bigg(\\frac{\\partial S}{\\partial \\rho_0} d_{Z_0} - (gradconz) S\\bigg)^2 \\sigma_{\\rho_0}^2 \\Bigg)^{\\frac{1}{2}} $$\n",
    "\n",
    "We define:\n",
    "\n",
    "$$\\gamma = \\frac{\\rho R^2}{R^2(R^2-\\rho^2(2k+1))+\\rho^4k(k+1)},$$\n",
    "\n",
    "so that:\n",
    "\n",
    "$$\\sigma_{d_{min}} = S \\Bigg( \\sigma_{Z_0}^2 + \\bigg(\\gamma d_{Z_0} + (gradconz) \\bigg)^2 \\sigma_{\\rho_0}^2 \\Bigg)^{\\frac{1}{2}} $$\n"
   ]
  },
  {
   "cell_type": "markdown",
   "metadata": {},
   "source": [
    "A bit of numerical experimentation: "
   ]
  },
  {
   "cell_type": "code",
   "execution_count": 15,
   "metadata": {},
   "outputs": [
    {
     "data": {
      "image/png": "[encoded data removed]",
      "text/latex": [
       "$$\\frac{R^{2} \\rho}{R^{4} - 2 R^{2} \\rho^{2} k - R^{2} \\rho^{2} + \\rho^{4} k^{2} + \\rho^{4} k}$$"
      ],
      "text/plain": [
       "                      2                          \n",
       "                     R ⋅\\rho                     \n",
       "─────────────────────────────────────────────────\n",
       " 4      2     2      2     2       4  2       4  \n",
       "R  - 2⋅R ⋅\\rho ⋅k - R ⋅\\rho  + \\rho ⋅k  + \\rho ⋅k"
      ]
     },
     "execution_count": 15,
     "metadata": {},
     "output_type": "execute_result"
    }
   ],
   "source": [
    "gamma = sp.simplify(-sp.simplify((sp.diff(S,rho)))/ S)\n",
    "gamma"
   ]
  },
  {
   "cell_type": "code",
   "execution_count": 16,
   "metadata": {},
   "outputs": [],
   "source": [
    "def numeric(val, Rval=440, kval=-1, rhoval=3.9, z0val=800):\n",
    "    return sp.N(val.subs(R, Rval).subs(k,kval).subs(rho, rhoval).subs(z0,z0val))"
   ]
  },
  {
   "cell_type": "code",
   "execution_count": 17,
   "metadata": {},
   "outputs": [],
   "source": [
    "def numeric2(val, Rval=440, kval=-1):\n",
    "    return sp.N(val.subs(R, Rval).subs(k,kval))"
   ]
  },
  {
   "cell_type": "code",
   "execution_count": 18,
   "metadata": {},
   "outputs": [
    {
     "data": {
      "image/png": "[encoded data removed]",
      "text/latex": [
       "$$\\frac{\\rho_{0} \\sqrt{\\frac{R^{2} - \\rho_{0}^{2} k - \\rho_{0}^{2}}{R^{2} - \\rho_{0}^{2} k}} \\left(- \\left(R^{2} - \\rho_{0}^{2} k\\right) \\left(\\rho_{0}^{2} \\left(k + 1\\right) + 2 \\sqrt{R^{2} - \\rho_{0}^{2} \\left(k + 1\\right)} \\left(\\sqrt{R^{2} - \\rho_{0}^{2} \\left(k + 1\\right)} + \\left|{R}\\right|\\right)\\right) \\left(- R^{2} + \\rho_{0}^{2} k + \\rho_{0}^{2}\\right) \\left|{R}\\right| + \\sqrt{R^{2} - \\rho_{0}^{2} \\left(k + 1\\right)} \\left(k \\left(- R^{2} + \\rho_{0}^{2} k + \\rho_{0}^{2}\\right) + \\left(R^{2} - \\rho_{0}^{2} k\\right) \\left(k + 1\\right)\\right) \\left(R Z_{0} \\left(\\sqrt{R^{2} - \\rho_{0}^{2} \\left(k + 1\\right)} + \\left|{R}\\right|\\right) - \\rho_{0}^{2} \\left|{R}\\right|\\right) \\left(\\sqrt{R^{2} - \\rho_{0}^{2} \\left(k + 1\\right)} + \\left|{R}\\right|\\right)\\right)}{R \\left(R^{2} - \\rho_{0}^{2} k\\right) \\sqrt{R^{2} - \\rho_{0}^{2} \\left(k + 1\\right)} \\left(\\sqrt{R^{2} - \\rho_{0}^{2} \\left(k + 1\\right)} + \\left|{R}\\right|\\right)^{2} \\left(- R^{2} + \\rho_{0}^{2} k + \\rho_{0}^{2}\\right)}$$"
      ],
      "text/plain": [
       "               ______________________________                                 \n",
       "              ╱  2           2             2  ⎛                     ⎛         \n",
       "             ╱  R  - \\rho_{0} ⋅k - \\rho_{0}   ⎜  ⎛ 2           2  ⎞ ⎜        2\n",
       "\\rho_{0}⋅   ╱   ──────────────────────────── ⋅⎝- ⎝R  - \\rho_{0} ⋅k⎠⋅⎝\\rho_{0} \n",
       "           ╱           2           2                                          \n",
       "         ╲╱           R  - \\rho_{0} ⋅k                                        \n",
       "──────────────────────────────────────────────────────────────────────────────\n",
       "                                                                              \n",
       "                                                                              \n",
       "                                                                              \n",
       "                                                                              \n",
       "\n",
       "                                                                              \n",
       "                ________________________ ⎛   ________________________      ⎞⎞ \n",
       "               ╱  2           2          ⎜  ╱  2           2               ⎟⎟ \n",
       "⋅(k + 1) + 2⋅╲╱  R  - \\rho_{0} ⋅(k + 1) ⋅⎝╲╱  R  - \\rho_{0} ⋅(k + 1)  + │R│⎠⎠⋅\n",
       "                                                                              \n",
       "                                                                              \n",
       "──────────────────────────────────────────────────────────────────────────────\n",
       "                                                                              \n",
       "                                                                              \n",
       "                                                           ⎛ 2           2  ⎞ \n",
       "                                                         R⋅⎝R  - \\rho_{0} ⋅k⎠⋅\n",
       "\n",
       "                                                                              \n",
       "                                          ________________________            \n",
       "⎛   2           2             2⎞         ╱  2           2          ⎛  ⎛   2   \n",
       "⎝- R  + \\rho_{0} ⋅k + \\rho_{0} ⎠⋅│R│ + ╲╱  R  - \\rho_{0} ⋅(k + 1) ⋅⎝k⋅⎝- R  + \n",
       "                                                                              \n",
       "                                                                              \n",
       "──────────────────────────────────────────────────────────────────────────────\n",
       "                                                               2              \n",
       "   ________________________ ⎛   ________________________      ⎞               \n",
       "  ╱  2           2          ⎜  ╱  2           2               ⎟  ⎛   2        \n",
       "╲╱  R  - \\rho_{0} ⋅(k + 1) ⋅⎝╲╱  R  - \\rho_{0} ⋅(k + 1)  + │R│⎠ ⋅⎝- R  + \\rho_\n",
       "\n",
       "                                                                              \n",
       "                                                       ⎛        ⎛   __________\n",
       "        2             2⎞   ⎛ 2           2  ⎞        ⎞ ⎜        ⎜  ╱  2       \n",
       "\\rho_{0} ⋅k + \\rho_{0} ⎠ + ⎝R  - \\rho_{0} ⋅k⎠⋅(k + 1)⎠⋅⎝R⋅Z_{0}⋅⎝╲╱  R  - \\rho\n",
       "                                                                              \n",
       "                                                                              \n",
       "──────────────────────────────────────────────────────────────────────────────\n",
       "                                                                              \n",
       "                                                                              \n",
       "   2             2⎞                                                           \n",
       "{0} ⋅k + \\rho_{0} ⎠                                                           \n",
       "\n",
       "                                                                           \n",
       "______________      ⎞                ⎞ ⎛   ________________________      ⎞⎞\n",
       "    2               ⎟           2    ⎟ ⎜  ╱  2           2               ⎟⎟\n",
       "_{0} ⋅(k + 1)  + │R│⎠ - \\rho_{0} ⋅│R│⎠⋅⎝╲╱  R  - \\rho_{0} ⋅(k + 1)  + │R│⎠⎠\n",
       "                                                                           \n",
       "                                                                           \n",
       "───────────────────────────────────────────────────────────────────────────\n",
       "                                                                           \n",
       "                                                                           \n",
       "                                                                           \n",
       "                                                                           "
      ]
     },
     "execution_count": 18,
     "metadata": {},
     "output_type": "execute_result"
    }
   ],
   "source": [
    "sp.simplify(sp.diff(dmin0, rho0))"
   ]
  },
  {
   "cell_type": "code",
   "execution_count": 19,
   "metadata": {},
   "outputs": [
    {
     "data": {
      "image/png": "[encoded data removed]",
      "text/latex": [
       "$$\\sqrt{\\left(\\frac{\\sqrt{\\frac{R^{2} - \\rho^{2} k - \\rho^{2}}{R^{2} - \\rho^{2} k}} \\left(R^{2} - \\rho^{2} k\\right) \\left(Z_{0} - \\frac{\\rho^{2}}{R \\left(\\sqrt{1 - \\frac{\\rho^{2} \\left(k + 1\\right)}{R^{2}}} + 1\\right)}\\right) \\left(\\frac{\\rho k \\left(R^{2} - \\rho^{2} k - \\rho^{2}\\right)}{\\left(R^{2} - \\rho^{2} k\\right)^{2}} + \\frac{- 2 \\rho k - 2 \\rho}{2 \\left(R^{2} - \\rho^{2} k\\right)}\\right)}{R^{2} - \\rho^{2} k - \\rho^{2}} + \\sqrt{\\frac{R^{2} - \\rho^{2} k - \\rho^{2}}{R^{2} - \\rho^{2} k}} \\left(- \\frac{2 \\rho}{R \\left(\\sqrt{1 - \\frac{\\rho^{2} \\left(k + 1\\right)}{R^{2}}} + 1\\right)} - \\frac{\\rho^{3} \\left(k + 1\\right)}{R^{3} \\sqrt{1 - \\frac{\\rho^{2} \\left(k + 1\\right)}{R^{2}}} \\left(\\sqrt{1 - \\frac{\\rho^{2} \\left(k + 1\\right)}{R^{2}}} + 1\\right)^{2}}\\right)\\right)^{2} + \\frac{R^{2} - \\rho^{2} k - \\rho^{2}}{R^{2} - \\rho^{2} k}}$$"
      ],
      "text/plain": [
       "                    __________________________________________________________\n",
       "                   ╱                                                          \n",
       "                  ╱  ⎛      ______________________                            \n",
       "                 ╱   ⎜     ╱  2       2         2                 ⎛           \n",
       "                ╱    ⎜    ╱  R  - \\rho ⋅k - \\rho   ⎛ 2       2  ⎞ ⎜           \n",
       "               ╱     ⎜   ╱   ──────────────────── ⋅⎝R  - \\rho ⋅k⎠⋅⎜Z_{0} - ───\n",
       "              ╱      ⎜  ╱         2       2                       ⎜          ⎛\n",
       "             ╱       ⎜╲╱         R  - \\rho ⋅k                     ⎜          ⎜\n",
       "            ╱        ⎜                                            ⎜          ⎜\n",
       "           ╱         ⎜                                            ⎜        R⋅⎜\n",
       "          ╱          ⎜                                            ⎜          ⎜\n",
       "         ╱           ⎜                                            ⎝          ⎝\n",
       "        ╱            ⎜────────────────────────────────────────────────────────\n",
       "       ╱             ⎜                                                        \n",
       "      ╱              ⎜                                                        \n",
       "     ╱               ⎜                                                        \n",
       "    ╱                ⎜                                                        \n",
       "   ╱                 ⎜                                                        \n",
       "  ╱                  ⎜                                                        \n",
       "╲╱                   ⎝                                                        \n",
       "\n",
       "______________________________________________________________________________\n",
       "                                                                              \n",
       "                                                                              \n",
       "               2              ⎞ ⎛       ⎛ 2       2         2⎞                \n",
       "           \\rho               ⎟ ⎜\\rho⋅k⋅⎝R  - \\rho ⋅k - \\rho ⎠   -2⋅\\rho⋅k - 2\n",
       "──────────────────────────────⎟⋅⎜───────────────────────────── + ─────────────\n",
       "      ___________________    ⎞⎟ ⎜                     2             ⎛ 2       \n",
       "     ╱         2             ⎟⎟ ⎜       ⎛ 2       2  ⎞            2⋅⎝R  - \\rho\n",
       "    ╱      \\rho ⋅(k + 1)     ⎟⎟ ⎝       ⎝R  - \\rho ⋅k⎠                        \n",
       "   ╱   1 - ─────────────  + 1⎟⎟                                               \n",
       "  ╱               2          ⎟⎟                                               \n",
       "╲╱               R           ⎠⎠                                               \n",
       "──────────────────────────────────────────────────────────────────────────────\n",
       "     2       2         2                                                      \n",
       "    R  - \\rho ⋅k - \\rho                                                       \n",
       "                                                                              \n",
       "                                                                              \n",
       "                                                                              \n",
       "                                                                              \n",
       "                                                                              \n",
       "\n",
       "______________________________________________________________________________\n",
       "                                                                              \n",
       "                                                                              \n",
       "     ⎞                                                                        \n",
       "⋅\\rho⎟                                                                        \n",
       "─────⎟                                                                        \n",
       "2  ⎞ ⎟                                                                        \n",
       " ⋅k⎠ ⎟                                                                        \n",
       "     ⎠                                                                        \n",
       "               ______________________                                         \n",
       "              ╱  2       2         2  ⎛                                       \n",
       "             ╱  R  - \\rho ⋅k - \\rho   ⎜                2⋅\\rho                 \n",
       "────── +    ╱   ──────────────────── ⋅⎜- ───────────────────────────────── - ─\n",
       "           ╱         2       2        ⎜    ⎛      ___________________    ⎞    \n",
       "         ╲╱         R  - \\rho ⋅k      ⎜    ⎜     ╱         2             ⎟    \n",
       "                                      ⎜    ⎜    ╱      \\rho ⋅(k + 1)     ⎟    \n",
       "                                      ⎜  R⋅⎜   ╱   1 - ─────────────  + 1⎟    \n",
       "                                      ⎜    ⎜  ╱               2          ⎟   R\n",
       "                                      ⎜    ⎝╲╱               R           ⎠    \n",
       "                                      ⎝                                       \n",
       "\n",
       "______________________________________________________________________________\n",
       "                                                              2               \n",
       "                                                             ⎞                \n",
       "                                                             ⎟                \n",
       "                                                             ⎟                \n",
       "                                                             ⎟                \n",
       "                                                             ⎟                \n",
       "                                                             ⎟                \n",
       "                                                             ⎟                \n",
       "                                                             ⎟                \n",
       "                           3                                ⎞⎟     2       2  \n",
       "                       \\rho ⋅(k + 1)                        ⎟⎟    R  - \\rho ⋅k\n",
       "────────────────────────────────────────────────────────────⎟⎟  + ────────────\n",
       "                                                           2⎟⎟         2      \n",
       "        ___________________ ⎛      ___________________    ⎞ ⎟⎟        R  - \\rh\n",
       "       ╱         2          ⎜     ╱         2             ⎟ ⎟⎟                \n",
       "3     ╱      \\rho ⋅(k + 1)  ⎜    ╱      \\rho ⋅(k + 1)     ⎟ ⎟⎟                \n",
       " ⋅   ╱   1 - ───────────── ⋅⎜   ╱   1 - ─────────────  + 1⎟ ⎟⎟                \n",
       "    ╱               2       ⎜  ╱               2          ⎟ ⎟⎟                \n",
       "  ╲╱               R        ⎝╲╱               R           ⎠ ⎠⎠                \n",
       "\n",
       "_________\n",
       "         \n",
       "         \n",
       "         \n",
       "         \n",
       "         \n",
       "         \n",
       "         \n",
       "         \n",
       "         \n",
       "       2 \n",
       " - \\rho  \n",
       "──────── \n",
       " 2       \n",
       "o ⋅k     \n",
       "         \n",
       "         \n",
       "         \n",
       "         \n",
       "         "
      ]
     },
     "execution_count": 19,
     "metadata": {},
     "output_type": "execute_result"
    }
   ],
   "source": [
    "testval_full=sp.sqrt((sp.diff(dmin0, z0)**2 + sp.diff(dmin0, rho0)**2)).subs(rho0,rho)\n",
    "testval_full"
   ]
  },
  {
   "cell_type": "code",
   "execution_count": 20,
   "metadata": {},
   "outputs": [],
   "source": [
    "testval_simp = (S*sp.sqrt(1+(gamma*dz0+gradconz)**2)).subs(rho0,rho)"
   ]
  },
  {
   "cell_type": "code",
   "execution_count": 21,
   "metadata": {},
   "outputs": [
    {
     "data": {
      "image/png": "[encoded data removed]",
      "text/latex": [
       "$$\\left ( 1.00027260276431, \\quad 1.00027260276431\\right )$$"
      ],
      "text/plain": [
       "(1.00027260276431, 1.00027260276431)"
      ]
     },
     "execution_count": 21,
     "metadata": {},
     "output_type": "execute_result"
    }
   ],
   "source": [
    "sp.collect(numeric(testval_full),rho), (sp.collect(numeric(testval_simp),rho))"
   ]
  },
  {
   "cell_type": "markdown",
   "metadata": {},
   "source": [
    "# Radial projection"
   ]
  },
  {
   "cell_type": "markdown",
   "metadata": {},
   "source": [
    "We now turn to another projection where the point is projected onto the conic via the line connecting the origin to the point. This projection will only work for $k\\gt-1$ (i.e. only for ellipses). Whereas before our origin of the coordinate system was at the tip of our conic, it will now be in the center. \n",
    "\n",
    "We want to recast our variables $R$ and $k$ in terms of the ellipse axes: \n",
    "$$r_{xy} = -\\frac{R}{k+1}$$\n",
    "\n",
    "$$r_z = \\sqrt{\\frac{R^2}{k+1}}$$\n",
    "\n",
    "We will assume a more general ellipsoid however, allowing for three distinct axes values $r_x$, $r_y$, and $r_z$."
   ]
  },
  {
   "cell_type": "code",
   "execution_count": 22,
   "metadata": {},
   "outputs": [],
   "source": [
    "rx,ry,rz = sp.symbols('r_{x} r_{y} r_{z}', real=True, positive=True)\n",
    "x,y,z,dv = sp.symbols('x y z d', real=True)\n",
    "dx,dy,dz = sp.symbols('\\delta_x \\delta_y \\delta_z', real=True)\n",
    "p0 = sp.Matrix([x0,y0,z0])"
   ]
  },
  {
   "cell_type": "code",
   "execution_count": 23,
   "metadata": {},
   "outputs": [
    {
     "data": {
      "image/png": "[encoded data removed]",
      "text/latex": [
       "$$X_{0}^{2} + Y_{0}^{2} + Z_{0}^{2}$$"
      ],
      "text/plain": [
       "     2        2        2\n",
       "X_{0}  + Y_{0}  + Z_{0} "
      ]
     },
     "execution_count": 23,
     "metadata": {},
     "output_type": "execute_result"
    }
   ],
   "source": [
    "rsq = x0**2+y0**2 + z0**2\n",
    "rsq"
   ]
  },
  {
   "cell_type": "markdown",
   "metadata": {},
   "source": [
    "We first calculate the points of the ellipse along the line connecting the origin to our data point ($X_0$, $Y_0$, $Z_0$).\n",
    "\n",
    "The equation of the ellipse is:\n",
    "\n",
    "$$\\frac{X^2}{r_x^2} + \\frac{Y^2}{r_y^2} + \\frac{Z^2}{r_z^2} = 1$$,\n",
    "\n",
    "whereas in general if we insert $X_0$, $Y_0$, and $Z_0$ into this equation we well get some value $\\ne$ 1 which we can call $\\lambda$:\n",
    "$$\\frac{X_0^2}{r_x^2} + \\frac{Y_0^2}{r_y^2} + \\frac{Z_0^2}{r_z^2} = \\lambda,$$\n",
    "and we can define\n",
    "\n",
    "$$s = \\frac{1}{\\sqrt{\\lambda}}$$\n",
    "such that:\n",
    "$$\\frac{(sX_0)^2}{r_x^2} + \\frac{(sY_0)^2}{r_y^2} + \\frac{(sZ_0)^2}{r_z^2} = 1.$$\n",
    "\n",
    "$s$ multiplicatively rescales our $X_0$, $Y_0$, and $Z_0$ to give us a point on the conic $(cx_0, cy_0, cz_0)$:\n",
    "\n",
    "$$(cx_0, cy_0, cz_0) = (sX_0, sY_0, sZ_0)$$"
   ]
  },
  {
   "cell_type": "code",
   "execution_count": 24,
   "metadata": {},
   "outputs": [
    {
     "data": {
      "image/png": "[encoded data removed]",
      "text/latex": [
       "$$\\frac{1}{\\sqrt{\\frac{X_{0}^{2}}{r_{x}^{2}} + \\frac{Y_{0}^{2}}{r_{y}^{2}} + \\frac{Z_{0}^{2}}{r_{z}^{2}}}}$$"
      ],
      "text/plain": [
       "               1                \n",
       "────────────────────────────────\n",
       "      __________________________\n",
       "     ╱      2        2        2 \n",
       "    ╱  X_{0}    Y_{0}    Z_{0}  \n",
       "   ╱   ────── + ────── + ────── \n",
       "  ╱         2        2        2 \n",
       "╲╱     r_{x}    r_{y}    r_{z}  "
      ]
     },
     "execution_count": 24,
     "metadata": {},
     "output_type": "execute_result"
    }
   ],
   "source": [
    "s = 1/sp.sqrt(x0**2/rx**2+y0**2/ry**2+z0**2/rz**2)\n",
    "s"
   ]
  },
  {
   "cell_type": "code",
   "execution_count": 25,
   "metadata": {},
   "outputs": [
    {
     "data": {
      "text/latex": [
       "$$\\left[\\begin{matrix}\\frac{X_{0}}{\\sqrt{\\frac{X_{0}^{2}}{r_{x}^{2}} + \\frac{Y_{0}^{2}}{r_{y}^{2}} + \\frac{Z_{0}^{2}}{r_{z}^{2}}}}\\\\\\frac{Y_{0}}{\\sqrt{\\frac{X_{0}^{2}}{r_{x}^{2}} + \\frac{Y_{0}^{2}}{r_{y}^{2}} + \\frac{Z_{0}^{2}}{r_{z}^{2}}}}\\\\\\frac{Z_{0}}{\\sqrt{\\frac{X_{0}^{2}}{r_{x}^{2}} + \\frac{Y_{0}^{2}}{r_{y}^{2}} + \\frac{Z_{0}^{2}}{r_{z}^{2}}}}\\end{matrix}\\right]$$"
      ],
      "text/plain": [
       "⎡             X_{0}              ⎤\n",
       "⎢────────────────────────────────⎥\n",
       "⎢      __________________________⎥\n",
       "⎢     ╱      2        2        2 ⎥\n",
       "⎢    ╱  X_{0}    Y_{0}    Z_{0}  ⎥\n",
       "⎢   ╱   ────── + ────── + ────── ⎥\n",
       "⎢  ╱         2        2        2 ⎥\n",
       "⎢╲╱     r_{x}    r_{y}    r_{z}  ⎥\n",
       "⎢                                ⎥\n",
       "⎢             Y_{0}              ⎥\n",
       "⎢────────────────────────────────⎥\n",
       "⎢      __________________________⎥\n",
       "⎢     ╱      2        2        2 ⎥\n",
       "⎢    ╱  X_{0}    Y_{0}    Z_{0}  ⎥\n",
       "⎢   ╱   ────── + ────── + ────── ⎥\n",
       "⎢  ╱         2        2        2 ⎥\n",
       "⎢╲╱     r_{x}    r_{y}    r_{z}  ⎥\n",
       "⎢                                ⎥\n",
       "⎢             Z_{0}              ⎥\n",
       "⎢────────────────────────────────⎥\n",
       "⎢      __________________________⎥\n",
       "⎢     ╱      2        2        2 ⎥\n",
       "⎢    ╱  X_{0}    Y_{0}    Z_{0}  ⎥\n",
       "⎢   ╱   ────── + ────── + ────── ⎥\n",
       "⎢  ╱         2        2        2 ⎥\n",
       "⎣╲╱     r_{x}    r_{y}    r_{z}  ⎦"
      ]
     },
     "execution_count": 25,
     "metadata": {},
     "output_type": "execute_result"
    }
   ],
   "source": [
    "cx=s*x0\n",
    "cy=s*y0\n",
    "cz=s*z0\n",
    "epoint = sp.Matrix([cx,cy,cz])\n",
    "epoint"
   ]
  },
  {
   "cell_type": "markdown",
   "metadata": {},
   "source": [
    "The equation for our ellipse is (e=1):"
   ]
  },
  {
   "cell_type": "code",
   "execution_count": 26,
   "metadata": {},
   "outputs": [],
   "source": [
    "e=x**2/rx**2 + y**2/ry**2+z**2/rz**2"
   ]
  },
  {
   "cell_type": "markdown",
   "metadata": {},
   "source": [
    "This expression is constant over the surface of the ellipse so that $\\nabla e$ is parallel to the normal vector at each point and rescale to simplify:"
   ]
  },
  {
   "cell_type": "code",
   "execution_count": 35,
   "metadata": {},
   "outputs": [
    {
     "data": {
      "text/latex": [
       "$$\\left[\\begin{matrix}\\frac{X_{0}}{r_{x}^{2} \\sqrt{\\frac{X_{0}^{2}}{r_{x}^{2}} + \\frac{Y_{0}^{2}}{r_{y}^{2}} + \\frac{Z_{0}^{2}}{r_{z}^{2}}}}\\\\\\frac{Y_{0}}{r_{y}^{2} \\sqrt{\\frac{X_{0}^{2}}{r_{x}^{2}} + \\frac{Y_{0}^{2}}{r_{y}^{2}} + \\frac{Z_{0}^{2}}{r_{z}^{2}}}}\\\\\\frac{Z_{0}}{r_{z}^{2} \\sqrt{\\frac{X_{0}^{2}}{r_{x}^{2}} + \\frac{Y_{0}^{2}}{r_{y}^{2}} + \\frac{Z_{0}^{2}}{r_{z}^{2}}}}\\end{matrix}\\right]$$"
      ],
      "text/plain": [
       "⎡                 X_{0}                 ⎤\n",
       "⎢───────────────────────────────────────⎥\n",
       "⎢             __________________________⎥\n",
       "⎢            ╱      2        2        2 ⎥\n",
       "⎢     2     ╱  X_{0}    Y_{0}    Z_{0}  ⎥\n",
       "⎢r_{x} ⋅   ╱   ────── + ────── + ────── ⎥\n",
       "⎢         ╱         2        2        2 ⎥\n",
       "⎢       ╲╱     r_{x}    r_{y}    r_{z}  ⎥\n",
       "⎢                                       ⎥\n",
       "⎢                 Y_{0}                 ⎥\n",
       "⎢───────────────────────────────────────⎥\n",
       "⎢             __________________________⎥\n",
       "⎢            ╱      2        2        2 ⎥\n",
       "⎢     2     ╱  X_{0}    Y_{0}    Z_{0}  ⎥\n",
       "⎢r_{y} ⋅   ╱   ────── + ────── + ────── ⎥\n",
       "⎢         ╱         2        2        2 ⎥\n",
       "⎢       ╲╱     r_{x}    r_{y}    r_{z}  ⎥\n",
       "⎢                                       ⎥\n",
       "⎢                 Z_{0}                 ⎥\n",
       "⎢───────────────────────────────────────⎥\n",
       "⎢             __________________________⎥\n",
       "⎢            ╱      2        2        2 ⎥\n",
       "⎢     2     ╱  X_{0}    Y_{0}    Z_{0}  ⎥\n",
       "⎢r_{z} ⋅   ╱   ────── + ────── + ────── ⎥\n",
       "⎢         ╱         2        2        2 ⎥\n",
       "⎣       ╲╱     r_{x}    r_{y}    r_{z}  ⎦"
      ]
     },
     "execution_count": 35,
     "metadata": {},
     "output_type": "execute_result"
    }
   ],
   "source": [
    "egrad=sp.Matrix([sp.diff(e,x), sp.diff(e,y), sp.diff(e,z)])\n",
    "egrad = ((egrad.subs(x,cx).subs(y,cy).subs(z,cz))/2)\n",
    "egrad"
   ]
  },
  {
   "cell_type": "markdown",
   "metadata": {},
   "source": [
    "We can then find an equation of a plane with form $ax + by + cz + d = 0$ that shares this normal vector and intersects our ellipse at $(cx, cy, cz)$. On the ellipse we know that $ax + by + cz=1$ so $d$ must be a constant. Quickly check the value:"
   ]
  },
  {
   "cell_type": "code",
   "execution_count": 37,
   "metadata": {},
   "outputs": [
    {
     "data": {
      "image/png": "[encoded data removed]",
      "text/latex": [
       "$$-1$$"
      ],
      "text/plain": [
       "-1"
      ]
     },
     "execution_count": 37,
     "metadata": {},
     "output_type": "execute_result"
    }
   ],
   "source": [
    "d=sp.solve(egrad.dot(epoint)+dv,dv)[0]\n",
    "d"
   ]
  },
  {
   "cell_type": "code",
   "execution_count": 38,
   "metadata": {},
   "outputs": [
    {
     "data": {
      "text/latex": [
       "$$\\left[\\begin{matrix}\\frac{X_{0}}{r_{x}^{2} \\sqrt{\\frac{X_{0}^{2}}{r_{x}^{2}} + \\frac{Y_{0}^{2}}{r_{y}^{2}} + \\frac{Z_{0}^{2}}{r_{z}^{2}}} \\sqrt{\\frac{X_{0}^{2}}{r_{x}^{4} \\left(\\frac{X_{0}^{2}}{r_{x}^{2}} + \\frac{Y_{0}^{2}}{r_{y}^{2}} + \\frac{Z_{0}^{2}}{r_{z}^{2}}\\right)} + \\frac{Y_{0}^{2}}{r_{y}^{4} \\left(\\frac{X_{0}^{2}}{r_{x}^{2}} + \\frac{Y_{0}^{2}}{r_{y}^{2}} + \\frac{Z_{0}^{2}}{r_{z}^{2}}\\right)} + \\frac{Z_{0}^{2}}{r_{z}^{4} \\left(\\frac{X_{0}^{2}}{r_{x}^{2}} + \\frac{Y_{0}^{2}}{r_{y}^{2}} + \\frac{Z_{0}^{2}}{r_{z}^{2}}\\right)}}}\\\\\\frac{Y_{0}}{r_{y}^{2} \\sqrt{\\frac{X_{0}^{2}}{r_{x}^{2}} + \\frac{Y_{0}^{2}}{r_{y}^{2}} + \\frac{Z_{0}^{2}}{r_{z}^{2}}} \\sqrt{\\frac{X_{0}^{2}}{r_{x}^{4} \\left(\\frac{X_{0}^{2}}{r_{x}^{2}} + \\frac{Y_{0}^{2}}{r_{y}^{2}} + \\frac{Z_{0}^{2}}{r_{z}^{2}}\\right)} + \\frac{Y_{0}^{2}}{r_{y}^{4} \\left(\\frac{X_{0}^{2}}{r_{x}^{2}} + \\frac{Y_{0}^{2}}{r_{y}^{2}} + \\frac{Z_{0}^{2}}{r_{z}^{2}}\\right)} + \\frac{Z_{0}^{2}}{r_{z}^{4} \\left(\\frac{X_{0}^{2}}{r_{x}^{2}} + \\frac{Y_{0}^{2}}{r_{y}^{2}} + \\frac{Z_{0}^{2}}{r_{z}^{2}}\\right)}}}\\\\\\frac{Z_{0}}{r_{z}^{2} \\sqrt{\\frac{X_{0}^{2}}{r_{x}^{2}} + \\frac{Y_{0}^{2}}{r_{y}^{2}} + \\frac{Z_{0}^{2}}{r_{z}^{2}}} \\sqrt{\\frac{X_{0}^{2}}{r_{x}^{4} \\left(\\frac{X_{0}^{2}}{r_{x}^{2}} + \\frac{Y_{0}^{2}}{r_{y}^{2}} + \\frac{Z_{0}^{2}}{r_{z}^{2}}\\right)} + \\frac{Y_{0}^{2}}{r_{y}^{4} \\left(\\frac{X_{0}^{2}}{r_{x}^{2}} + \\frac{Y_{0}^{2}}{r_{y}^{2}} + \\frac{Z_{0}^{2}}{r_{z}^{2}}\\right)} + \\frac{Z_{0}^{2}}{r_{z}^{4} \\left(\\frac{X_{0}^{2}}{r_{x}^{2}} + \\frac{Y_{0}^{2}}{r_{y}^{2}} + \\frac{Z_{0}^{2}}{r_{z}^{2}}\\right)}}}\\end{matrix}\\right]$$"
      ],
      "text/plain": [
       "⎡                                                                           X_\n",
       "⎢─────────────────────────────────────────────────────────────────────────────\n",
       "⎢             __________________________          ____________________________\n",
       "⎢            ╱      2        2        2          ╱                    2       \n",
       "⎢     2     ╱  X_{0}    Y_{0}    Z_{0}          ╱                X_{0}        \n",
       "⎢r_{x} ⋅   ╱   ────── + ────── + ────── ⋅      ╱   ───────────────────────────\n",
       "⎢         ╱         2        2        2       ╱           ⎛     2        2    \n",
       "⎢       ╲╱     r_{x}    r_{y}    r_{z}       ╱          4 ⎜X_{0}    Y_{0}    Z\n",
       "⎢                                           ╱      r_{x} ⋅⎜────── + ────── + ─\n",
       "⎢                                          ╱              ⎜     2        2    \n",
       "⎢                                        ╲╱               ⎝r_{x}    r_{y}    r\n",
       "⎢                                                                             \n",
       "⎢                                                                           Y_\n",
       "⎢─────────────────────────────────────────────────────────────────────────────\n",
       "⎢             __________________________          ____________________________\n",
       "⎢            ╱      2        2        2          ╱                    2       \n",
       "⎢     2     ╱  X_{0}    Y_{0}    Z_{0}          ╱                X_{0}        \n",
       "⎢r_{y} ⋅   ╱   ────── + ────── + ────── ⋅      ╱   ───────────────────────────\n",
       "⎢         ╱         2        2        2       ╱           ⎛     2        2    \n",
       "⎢       ╲╱     r_{x}    r_{y}    r_{z}       ╱          4 ⎜X_{0}    Y_{0}    Z\n",
       "⎢                                           ╱      r_{x} ⋅⎜────── + ────── + ─\n",
       "⎢                                          ╱              ⎜     2        2    \n",
       "⎢                                        ╲╱               ⎝r_{x}    r_{y}    r\n",
       "⎢                                                                             \n",
       "⎢                                                                           Z_\n",
       "⎢─────────────────────────────────────────────────────────────────────────────\n",
       "⎢             __________________________          ____________________________\n",
       "⎢            ╱      2        2        2          ╱                    2       \n",
       "⎢     2     ╱  X_{0}    Y_{0}    Z_{0}          ╱                X_{0}        \n",
       "⎢r_{z} ⋅   ╱   ────── + ────── + ────── ⋅      ╱   ───────────────────────────\n",
       "⎢         ╱         2        2        2       ╱           ⎛     2        2    \n",
       "⎢       ╲╱     r_{x}    r_{y}    r_{z}       ╱          4 ⎜X_{0}    Y_{0}    Z\n",
       "⎢                                           ╱      r_{x} ⋅⎜────── + ────── + ─\n",
       "⎢                                          ╱              ⎜     2        2    \n",
       "⎣                                        ╲╱               ⎝r_{x}    r_{y}    r\n",
       "\n",
       "{0}                                                                           \n",
       "──────────────────────────────────────────────────────────────────────────────\n",
       "______________________________________________________________________________\n",
       "                            2                                   2             \n",
       "                       Y_{0}                               Z_{0}              \n",
       "────── + ───────────────────────────────── + ─────────────────────────────────\n",
       "    2⎞          ⎛     2        2        2⎞          ⎛     2        2        2⎞\n",
       "_{0} ⎟        4 ⎜X_{0}    Y_{0}    Z_{0} ⎟        4 ⎜X_{0}    Y_{0}    Z_{0} ⎟\n",
       "─────⎟   r_{y} ⋅⎜────── + ────── + ──────⎟   r_{z} ⋅⎜────── + ────── + ──────⎟\n",
       "    2⎟          ⎜     2        2        2⎟          ⎜     2        2        2⎟\n",
       "_{z} ⎠          ⎝r_{x}    r_{y}    r_{z} ⎠          ⎝r_{x}    r_{y}    r_{z} ⎠\n",
       "                                                                              \n",
       "{0}                                                                           \n",
       "──────────────────────────────────────────────────────────────────────────────\n",
       "______________________________________________________________________________\n",
       "                            2                                   2             \n",
       "                       Y_{0}                               Z_{0}              \n",
       "────── + ───────────────────────────────── + ─────────────────────────────────\n",
       "    2⎞          ⎛     2        2        2⎞          ⎛     2        2        2⎞\n",
       "_{0} ⎟        4 ⎜X_{0}    Y_{0}    Z_{0} ⎟        4 ⎜X_{0}    Y_{0}    Z_{0} ⎟\n",
       "─────⎟   r_{y} ⋅⎜────── + ────── + ──────⎟   r_{z} ⋅⎜────── + ────── + ──────⎟\n",
       "    2⎟          ⎜     2        2        2⎟          ⎜     2        2        2⎟\n",
       "_{z} ⎠          ⎝r_{x}    r_{y}    r_{z} ⎠          ⎝r_{x}    r_{y}    r_{z} ⎠\n",
       "                                                                              \n",
       "{0}                                                                           \n",
       "──────────────────────────────────────────────────────────────────────────────\n",
       "______________________________________________________________________________\n",
       "                            2                                   2             \n",
       "                       Y_{0}                               Z_{0}              \n",
       "────── + ───────────────────────────────── + ─────────────────────────────────\n",
       "    2⎞          ⎛     2        2        2⎞          ⎛     2        2        2⎞\n",
       "_{0} ⎟        4 ⎜X_{0}    Y_{0}    Z_{0} ⎟        4 ⎜X_{0}    Y_{0}    Z_{0} ⎟\n",
       "─────⎟   r_{y} ⋅⎜────── + ────── + ──────⎟   r_{z} ⋅⎜────── + ────── + ──────⎟\n",
       "    2⎟          ⎜     2        2        2⎟          ⎜     2        2        2⎟\n",
       "_{z} ⎠          ⎝r_{x}    r_{y}    r_{z} ⎠          ⎝r_{x}    r_{y}    r_{z} ⎠\n",
       "\n",
       " ⎤\n",
       "─⎥\n",
       "_⎥\n",
       " ⎥\n",
       " ⎥\n",
       " ⎥\n",
       " ⎥\n",
       " ⎥\n",
       " ⎥\n",
       " ⎥\n",
       " ⎥\n",
       " ⎥\n",
       " ⎥\n",
       "─⎥\n",
       "_⎥\n",
       " ⎥\n",
       " ⎥\n",
       " ⎥\n",
       " ⎥\n",
       " ⎥\n",
       " ⎥\n",
       " ⎥\n",
       " ⎥\n",
       " ⎥\n",
       " ⎥\n",
       "─⎥\n",
       "_⎥\n",
       " ⎥\n",
       " ⎥\n",
       " ⎥\n",
       " ⎥\n",
       " ⎥\n",
       " ⎥\n",
       " ⎥\n",
       " ⎦"
      ]
     },
     "execution_count": 38,
     "metadata": {},
     "output_type": "execute_result"
    }
   ],
   "source": [
    "egrad/egrad.norm()"
   ]
  },
  {
   "cell_type": "code",
   "execution_count": 39,
   "metadata": {},
   "outputs": [
    {
     "data": {
      "image/png": "[encoded data removed]",
      "text/latex": [
       "$$\\frac{X_{0}^{2}}{r_{x}^{2} \\left(\\frac{X_{0}^{2}}{r_{x}^{2}} + \\frac{Y_{0}^{2}}{r_{y}^{2}} + \\frac{Z_{0}^{2}}{r_{z}^{2}}\\right)} + \\frac{Y_{0}^{2}}{r_{y}^{2} \\left(\\frac{X_{0}^{2}}{r_{x}^{2}} + \\frac{Y_{0}^{2}}{r_{y}^{2}} + \\frac{Z_{0}^{2}}{r_{z}^{2}}\\right)} + \\frac{Z_{0}^{2}}{r_{z}^{2} \\left(\\frac{X_{0}^{2}}{r_{x}^{2}} + \\frac{Y_{0}^{2}}{r_{y}^{2}} + \\frac{Z_{0}^{2}}{r_{z}^{2}}\\right)}$$"
      ],
      "text/plain": [
       "                   2                                   2                      \n",
       "              X_{0}                               Y_{0}                       \n",
       "───────────────────────────────── + ───────────────────────────────── + ──────\n",
       "       ⎛     2        2        2⎞          ⎛     2        2        2⎞         \n",
       "     2 ⎜X_{0}    Y_{0}    Z_{0} ⎟        2 ⎜X_{0}    Y_{0}    Z_{0} ⎟        2\n",
       "r_{x} ⋅⎜────── + ────── + ──────⎟   r_{y} ⋅⎜────── + ────── + ──────⎟   r_{z} \n",
       "       ⎜     2        2        2⎟          ⎜     2        2        2⎟         \n",
       "       ⎝r_{x}    r_{y}    r_{z} ⎠          ⎝r_{x}    r_{y}    r_{z} ⎠         \n",
       "\n",
       "             2             \n",
       "        Z_{0}              \n",
       "───────────────────────────\n",
       " ⎛     2        2        2⎞\n",
       " ⎜X_{0}    Y_{0}    Z_{0} ⎟\n",
       "⋅⎜────── + ────── + ──────⎟\n",
       " ⎜     2        2        2⎟\n",
       " ⎝r_{x}    r_{y}    r_{z} ⎠"
      ]
     },
     "execution_count": 39,
     "metadata": {},
     "output_type": "execute_result"
    }
   ],
   "source": [
    "egrad.dot(epoint)"
   ]
  },
  {
   "cell_type": "code",
   "execution_count": 40,
   "metadata": {},
   "outputs": [
    {
     "data": {
      "image/png": "[encoded data removed]",
      "text/latex": [
       "$$\\frac{\\frac{X_{0}^{2}}{r_{x}^{2} \\sqrt{\\frac{X_{0}^{2}}{r_{x}^{2}} + \\frac{Y_{0}^{2}}{r_{y}^{2}} + \\frac{Z_{0}^{2}}{r_{z}^{2}}}} + \\frac{Y_{0}^{2}}{r_{y}^{2} \\sqrt{\\frac{X_{0}^{2}}{r_{x}^{2}} + \\frac{Y_{0}^{2}}{r_{y}^{2}} + \\frac{Z_{0}^{2}}{r_{z}^{2}}}} + \\frac{Z_{0}^{2}}{r_{z}^{2} \\sqrt{\\frac{X_{0}^{2}}{r_{x}^{2}} + \\frac{Y_{0}^{2}}{r_{y}^{2}} + \\frac{Z_{0}^{2}}{r_{z}^{2}}}} - 1}{\\sqrt{\\frac{X_{0}^{2}}{r_{x}^{4} \\left(\\frac{X_{0}^{2}}{r_{x}^{2}} + \\frac{Y_{0}^{2}}{r_{y}^{2}} + \\frac{Z_{0}^{2}}{r_{z}^{2}}\\right)} + \\frac{Y_{0}^{2}}{r_{y}^{4} \\left(\\frac{X_{0}^{2}}{r_{x}^{2}} + \\frac{Y_{0}^{2}}{r_{y}^{2}} + \\frac{Z_{0}^{2}}{r_{z}^{2}}\\right)} + \\frac{Z_{0}^{2}}{r_{z}^{4} \\left(\\frac{X_{0}^{2}}{r_{x}^{2}} + \\frac{Y_{0}^{2}}{r_{y}^{2}} + \\frac{Z_{0}^{2}}{r_{z}^{2}}\\right)}}}$$"
      ],
      "text/plain": [
       "                      2                                         2             \n",
       "                 X_{0}                                     Y_{0}              \n",
       "─────────────────────────────────────── + ────────────────────────────────────\n",
       "             __________________________                _______________________\n",
       "            ╱      2        2        2                ╱      2        2       \n",
       "     2     ╱  X_{0}    Y_{0}    Z_{0}          2     ╱  X_{0}    Y_{0}    Z_{0\n",
       "r_{x} ⋅   ╱   ────── + ────── + ──────    r_{y} ⋅   ╱   ────── + ────── + ────\n",
       "         ╱         2        2        2             ╱         2        2       \n",
       "       ╲╱     r_{x}    r_{y}    r_{z}            ╲╱     r_{x}    r_{y}    r_{z\n",
       "──────────────────────────────────────────────────────────────────────────────\n",
       "               _______________________________________________________________\n",
       "              ╱                    2                                   2      \n",
       "             ╱                X_{0}                               Y_{0}       \n",
       "            ╱   ───────────────────────────────── + ──────────────────────────\n",
       "           ╱           ⎛     2        2        2⎞          ⎛     2        2   \n",
       "          ╱          4 ⎜X_{0}    Y_{0}    Z_{0} ⎟        4 ⎜X_{0}    Y_{0}    \n",
       "         ╱      r_{x} ⋅⎜────── + ────── + ──────⎟   r_{y} ⋅⎜────── + ────── + \n",
       "        ╱              ⎜     2        2        2⎟          ⎜     2        2   \n",
       "      ╲╱               ⎝r_{x}    r_{y}    r_{z} ⎠          ⎝r_{x}    r_{y}    \n",
       "\n",
       "                            2                    \n",
       "                       Z_{0}                     \n",
       "─── + ─────────────────────────────────────── - 1\n",
       "___                __________________________    \n",
       " 2                ╱      2        2        2     \n",
       "}          2     ╱  X_{0}    Y_{0}    Z_{0}      \n",
       "──    r_{z} ⋅   ╱   ────── + ────── + ──────     \n",
       " 2             ╱         2        2        2     \n",
       "}            ╲╱     r_{x}    r_{y}    r_{z}      \n",
       "─────────────────────────────────────────────────\n",
       "____________________________________________     \n",
       "                             2                   \n",
       "                        Z_{0}                    \n",
       "─────── + ─────────────────────────────────      \n",
       "     2⎞          ⎛     2        2        2⎞      \n",
       "Z_{0} ⎟        4 ⎜X_{0}    Y_{0}    Z_{0} ⎟      \n",
       "──────⎟   r_{z} ⋅⎜────── + ────── + ──────⎟      \n",
       "     2⎟          ⎜     2        2        2⎟      \n",
       "r_{z} ⎠          ⎝r_{x}    r_{y}    r_{z} ⎠      "
      ]
     },
     "execution_count": 40,
     "metadata": {},
     "output_type": "execute_result"
    }
   ],
   "source": [
    "dmin=(egrad.dot(p0)+d)/egrad.norm()\n",
    "dmin"
   ]
  },
  {
   "cell_type": "code",
   "execution_count": 41,
   "metadata": {},
   "outputs": [],
   "source": [
    "n = sp.sqrt(x0**2/rx**2 + y0**2/ry**2 + z0**2/rz**2)"
   ]
  },
  {
   "cell_type": "code",
   "execution_count": 42,
   "metadata": {},
   "outputs": [
    {
     "data": {
      "image/png": "[encoded data removed]",
      "text/latex": [
       "$$\\sqrt{\\frac{X_{0}^{2}}{r_{x}^{2}} + \\frac{Y_{0}^{2}}{r_{y}^{2}} + \\frac{Z_{0}^{2}}{r_{z}^{2}}}$$"
      ],
      "text/plain": [
       "      __________________________\n",
       "     ╱      2        2        2 \n",
       "    ╱  X_{0}    Y_{0}    Z_{0}  \n",
       "   ╱   ────── + ────── + ────── \n",
       "  ╱         2        2        2 \n",
       "╲╱     r_{x}    r_{y}    r_{z}  "
      ]
     },
     "execution_count": 42,
     "metadata": {},
     "output_type": "execute_result"
    }
   ],
   "source": [
    "n"
   ]
  },
  {
   "cell_type": "code",
   "execution_count": 45,
   "metadata": {},
   "outputs": [
    {
     "data": {
      "image/png": "[encoded data removed]",
      "text/latex": [
       "$$\\frac{\\frac{X_{0}^{2}}{r_{x}^{2} \\sqrt{\\frac{X_{0}^{2}}{r_{x}^{2}} + \\frac{Z_{0}^{2}}{r_{z}^{2}}}} + \\frac{Z_{0}^{2}}{r_{z}^{2} \\sqrt{\\frac{X_{0}^{2}}{r_{x}^{2}} + \\frac{Z_{0}^{2}}{r_{z}^{2}}}} - 1}{\\sqrt{\\frac{X_{0}^{2}}{r_{x}^{4} \\left(\\frac{X_{0}^{2}}{r_{x}^{2}} + \\frac{Z_{0}^{2}}{r_{z}^{2}}\\right)} + \\frac{Z_{0}^{2}}{r_{z}^{4} \\left(\\frac{X_{0}^{2}}{r_{x}^{2}} + \\frac{Z_{0}^{2}}{r_{z}^{2}}\\right)}}}$$"
      ],
      "text/plain": [
       "                 2                                2                \n",
       "            X_{0}                            Z_{0}                 \n",
       "────────────────────────────── + ────────────────────────────── - 1\n",
       "             _________________                _________________    \n",
       "            ╱      2        2                ╱      2        2     \n",
       "     2     ╱  X_{0}    Z_{0}          2     ╱  X_{0}    Z_{0}      \n",
       "r_{x} ⋅   ╱   ────── + ──────    r_{z} ⋅   ╱   ────── + ──────     \n",
       "         ╱         2        2             ╱         2        2     \n",
       "       ╲╱     r_{x}    r_{z}            ╲╱     r_{x}    r_{z}      \n",
       "───────────────────────────────────────────────────────────────────\n",
       "            _____________________________________________________  \n",
       "           ╱               2                          2            \n",
       "          ╱           X_{0}                      Z_{0}             \n",
       "         ╱   ──────────────────────── + ────────────────────────   \n",
       "        ╱           ⎛     2        2⎞          ⎛     2        2⎞   \n",
       "       ╱          4 ⎜X_{0}    Z_{0} ⎟        4 ⎜X_{0}    Z_{0} ⎟   \n",
       "      ╱      r_{x} ⋅⎜────── + ──────⎟   r_{z} ⋅⎜────── + ──────⎟   \n",
       "     ╱              ⎜     2        2⎟          ⎜     2        2⎟   \n",
       "   ╲╱               ⎝r_{x}    r_{z} ⎠          ⎝r_{x}    r_{z} ⎠   "
      ]
     },
     "execution_count": 45,
     "metadata": {},
     "output_type": "execute_result"
    }
   ],
   "source": [
    "dmin.subs(ry,sp.oo)"
   ]
  },
  {
   "cell_type": "code",
   "execution_count": null,
   "metadata": {},
   "outputs": [],
   "source": []
  }
 ],
 "metadata": {
  "kernelspec": {
   "display_name": "Python 3",
   "language": "python",
   "name": "python3"
  },
  "language_info": {
   "codemirror_mode": {
    "name": "ipython",
    "version": 3
   },
   "file_extension": ".py",
   "mimetype": "text/x-python",
   "name": "python",
   "nbconvert_exporter": "python",
   "pygments_lexer": "ipython3",
   "version": "3.6.8"
  }
 },
 "nbformat": 4,
 "nbformat_minor": 2
}
