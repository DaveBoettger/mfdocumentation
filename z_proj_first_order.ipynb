{
 "cells": [
  {
   "cell_type": "markdown",
   "metadata": {},
   "source": [
    "## Z-Projection\n",
    "\n",
    "We start off with projecting our measured point onto the conic along the  𝑍 -axis. This requires us to calculate the  𝑍  coordinate from  𝑋  and  𝑌 .\n",
    "\n"
   ]
  },
  {
   "cell_type": "code",
   "execution_count": 1,
   "metadata": {},
   "outputs": [],
   "source": [
    "import sympy as sp\n",
    "import numpy as np\n",
    "import matplotlib.pyplot as plt\n",
    "sp.init_printing()"
   ]
  },
  {
   "cell_type": "code",
   "execution_count": 2,
   "metadata": {},
   "outputs": [],
   "source": [
    "x,y,z,x0,y0,z0,d = sp.symbols('x,y,z,X_{0} Y_{0} Z_{0} \\delta', real=True)"
   ]
  },
  {
   "cell_type": "markdown",
   "metadata": {},
   "source": [
    "$conz$ will be our function for the $Z$ value of our conic evaluated at a distance $\\rho=\\sqrt{X^2+Y^2}$ from the origin on the $XY$-plane (we similarly define $\\rho_0=\\sqrt{X_0^2+Y_0^2}$). The symmetry of the conic allows us to use $\\rho$ instead of $X$ and $Y$ individually."
   ]
  },
  {
   "cell_type": "code",
   "execution_count": 3,
   "metadata": {},
   "outputs": [],
   "source": [
    "k,R = sp.symbols('k R', real=True)\n",
    "rho, rho0 = sp.symbols('\\\\rho \\\\rho_{0}', real=True, positive=True)\n",
    "c=1/R"
   ]
  },
  {
   "cell_type": "code",
   "execution_count": 4,
   "metadata": {},
   "outputs": [],
   "source": [
    "conz = (c*rho**2) / (1 + sp.sqrt(1-(1+k)*c**2*rho**2))"
   ]
  },
  {
   "cell_type": "code",
   "execution_count": 5,
   "metadata": {},
   "outputs": [
    {
     "data": {
      "image/png": "[encoded data removed]",
      "text/latex": [
       "$$\\frac{\\rho^{2}}{R \\left(\\sqrt{1 - \\frac{\\rho^{2} \\left(k + 1\\right)}{R^{2}}} + 1\\right)}$$"
      ],
      "text/plain": [
       "                  2              \n",
       "              \\rho               \n",
       "─────────────────────────────────\n",
       "  ⎛      ___________________    ⎞\n",
       "  ⎜     ╱         2             ⎟\n",
       "  ⎜    ╱      \\rho ⋅(k + 1)     ⎟\n",
       "R⋅⎜   ╱   1 - ─────────────  + 1⎟\n",
       "  ⎜  ╱               2          ⎟\n",
       "  ⎝╲╱               R           ⎠"
      ]
     },
     "execution_count": 5,
     "metadata": {},
     "output_type": "execute_result"
    }
   ],
   "source": [
    "conz"
   ]
  },
  {
   "cell_type": "markdown",
   "metadata": {},
   "source": [
    "We can now calculate $d_{Z_0}$, which we define as the $Z$ distance between our point and the conic, by evaluating $Z_0 - conz(\\rho_0)$ but this distance overestimates the distance between the point and the conic. What we want to do in addition is linearize the conic at the $Z$ projection point and then calculate the distance to the plane representing this linearization. \n",
    "\n",
    "To linearize we need the gradient (slope) of the conic at our evaluation point, which is just $\\frac{d conz}{d\\rho}$ again because of symmetry, so the problem is effectively two dimensional:"
   ]
  },
  {
   "cell_type": "code",
   "execution_count": 6,
   "metadata": {},
   "outputs": [
    {
     "data": {
      "image/png": "[encoded data removed]",
      "text/latex": [
       "$$Z_{0} - \\frac{\\rho_{0}^{2}}{R \\left(\\sqrt{1 - \\frac{\\rho_{0}^{2} \\left(k + 1\\right)}{R^{2}}} + 1\\right)}$$"
      ],
      "text/plain": [
       "                              2              \n",
       "                      \\rho_{0}               \n",
       "Z_{0} - ─────────────────────────────────────\n",
       "          ⎛      _______________________    ⎞\n",
       "          ⎜     ╱             2             ⎟\n",
       "          ⎜    ╱      \\rho_{0} ⋅(k + 1)     ⎟\n",
       "        R⋅⎜   ╱   1 - ─────────────────  + 1⎟\n",
       "          ⎜  ╱                 2            ⎟\n",
       "          ⎝╲╱                 R             ⎠"
      ]
     },
     "execution_count": 6,
     "metadata": {},
     "output_type": "execute_result"
    }
   ],
   "source": [
    "dz0 = z0-conz.subs(rho,rho0)\n",
    "dz0"
   ]
  },
  {
   "cell_type": "code",
   "execution_count": 7,
   "metadata": {},
   "outputs": [
    {
     "data": {
      "image/png": "[encoded data removed]",
      "text/latex": [
       "$$\\frac{\\rho \\left(\\rho^{2} \\left(k + 1\\right) + 2 \\sqrt{R^{2} - \\rho^{2} \\left(k + 1\\right)} \\left(\\sqrt{R^{2} - \\rho^{2} \\left(k + 1\\right)} + \\left|{R}\\right|\\right)\\right) \\left|{R}\\right|}{R \\sqrt{R^{2} - \\rho^{2} \\left(k + 1\\right)} \\left(\\sqrt{R^{2} - \\rho^{2} \\left(k + 1\\right)} + \\left|{R}\\right|\\right)^{2}}$$"
      ],
      "text/plain": [
       "     ⎛                     ____________________ ⎛   ____________________      \n",
       "     ⎜    2               ╱  2       2          ⎜  ╱  2       2               \n",
       "\\rho⋅⎝\\rho ⋅(k + 1) + 2⋅╲╱  R  - \\rho ⋅(k + 1) ⋅⎝╲╱  R  - \\rho ⋅(k + 1)  + │R│\n",
       "──────────────────────────────────────────────────────────────────────────────\n",
       "                                                                      2       \n",
       "                  ____________________ ⎛   ____________________      ⎞        \n",
       "                 ╱  2       2          ⎜  ╱  2       2               ⎟        \n",
       "             R⋅╲╱  R  - \\rho ⋅(k + 1) ⋅⎝╲╱  R  - \\rho ⋅(k + 1)  + │R│⎠        \n",
       "\n",
       "⎞⎞    \n",
       "⎟⎟    \n",
       "⎠⎠⋅│R│\n",
       "──────\n",
       "      \n",
       "      \n",
       "      \n",
       "      "
      ]
     },
     "execution_count": 7,
     "metadata": {},
     "output_type": "execute_result"
    }
   ],
   "source": [
    "slope = sp.simplify(sp.diff(conz, rho))\n",
    "slope"
   ]
  },
  {
   "cell_type": "markdown",
   "metadata": {},
   "source": [
    "To find our minimum distance $d_{min}$ to the linearized plane, we must find the length of the normal vector running from the plane to the point. \n",
    "\n",
    "To do this, we can imagine a triangle formed by the slope we just calculated as $\\frac{rise}{run}$ such that we have our \"rise\" of $slope(\\rho)$ when our \"run\" is $1$. This triangle is geometrically similar to the triangle formed by the $Z$ projection distance from the point to the conic, the normal vector that runs from the linearized plane to the point (which is the minimum distance from the point to the plane), and the line connecting these two that runs along the linearized plane. This gives us a ratio equation involving $d_{min}$:\n",
    "\n",
    "$$\\frac{\\sqrt{slope^2 + 1}}{1} = \\frac{d_Z}{d_{min}},$$\n",
    "\n",
    "yielding: \n",
    "\n",
    "$$d_{min} = \\frac{d_Z}{\\sqrt{slope^2+1}}.$$\n",
    "\n",
    "We can think of this as a scale factor $S$ that we apply to $d_Z$:\n",
    "\n",
    "$$S(\\rho) = \\frac{1}{\\sqrt{slope(\\rho)^2+1}},$$\n",
    "\n",
    "such that finally:\n",
    "\n",
    "$$d_{min}(\\rho) = S(\\rho) d_Z(\\rho).$$"
   ]
  },
  {
   "cell_type": "code",
   "execution_count": 8,
   "metadata": {},
   "outputs": [
    {
     "data": {
      "image/png": "[encoded data removed]",
      "text/latex": [
       "$$\\sqrt{\\frac{R^{2} - \\rho^{2} k - \\rho^{2}}{R^{2} - \\rho^{2} k}}$$"
      ],
      "text/plain": [
       "      ______________________\n",
       "     ╱  2       2         2 \n",
       "    ╱  R  - \\rho ⋅k - \\rho  \n",
       "   ╱   ──────────────────── \n",
       "  ╱         2       2       \n",
       "╲╱         R  - \\rho ⋅k     "
      ]
     },
     "execution_count": 8,
     "metadata": {},
     "output_type": "execute_result"
    }
   ],
   "source": [
    "S = sp.symbols('S')\n",
    "S=sp.simplify(sp.sqrt(sp.factor(sp.simplify(1 / (slope**2+1)))))\n",
    "S"
   ]
  },
  {
   "cell_type": "markdown",
   "metadata": {},
   "source": [
    "$$S = \\sqrt{\\frac{R^2-\\rho^2(k+1)}{R^2-\\rho^2k}}$$"
   ]
  },
  {
   "cell_type": "markdown",
   "metadata": {},
   "source": [
    "We can now generate an expression for the minimum distance from an arbitrary point $p_0$ = $[\\rho_0,Z_0]$ to the conic:"
   ]
  },
  {
   "cell_type": "code",
   "execution_count": 9,
   "metadata": {},
   "outputs": [
    {
     "data": {
      "image/png": "[encoded data removed]",
      "text/latex": [
       "$$\\sqrt{\\frac{R^{2} - \\rho_{0}^{2} k - \\rho_{0}^{2}}{R^{2} - \\rho_{0}^{2} k}} \\left(Z_{0} - \\frac{\\rho_{0}^{2}}{R \\left(\\sqrt{1 - \\frac{\\rho_{0}^{2} \\left(k + 1\\right)}{R^{2}}} + 1\\right)}\\right)$$"
      ],
      "text/plain": [
       "      ______________________________                                          \n",
       "     ╱  2           2             2  ⎛                              2         \n",
       "    ╱  R  - \\rho_{0} ⋅k - \\rho_{0}   ⎜                      \\rho_{0}          \n",
       "   ╱   ──────────────────────────── ⋅⎜Z_{0} - ────────────────────────────────\n",
       "  ╱           2           2          ⎜          ⎛      _______________________\n",
       "╲╱           R  - \\rho_{0} ⋅k        ⎜          ⎜     ╱             2         \n",
       "                                     ⎜          ⎜    ╱      \\rho_{0} ⋅(k + 1) \n",
       "                                     ⎜        R⋅⎜   ╱   1 - ───────────────── \n",
       "                                     ⎜          ⎜  ╱                 2        \n",
       "                                     ⎝          ⎝╲╱                 R         \n",
       "\n",
       "      \n",
       "     ⎞\n",
       "     ⎟\n",
       "─────⎟\n",
       "    ⎞⎟\n",
       "    ⎟⎟\n",
       "    ⎟⎟\n",
       " + 1⎟⎟\n",
       "    ⎟⎟\n",
       "    ⎠⎠"
      ]
     },
     "execution_count": 9,
     "metadata": {},
     "output_type": "execute_result"
    }
   ],
   "source": [
    "dmin0 = (S.subs(rho,rho0)*dz0)\n",
    "dmin0"
   ]
  },
  {
   "cell_type": "markdown",
   "metadata": {},
   "source": [
    "We'd like a way to understand how good our approximation is. We can choose an arbitrary point on the conic, displace it by a known amount $\\delta$ along the local surface normal, and then see what we calculate as the distance given our approximation. To displace our points we need to calculate the normal vector to the surface of the conic at any point:"
   ]
  },
  {
   "cell_type": "code",
   "execution_count": 10,
   "metadata": {},
   "outputs": [
    {
     "data": {
      "text/latex": [
       "$$\\left[\\begin{matrix}- \\frac{R \\rho}{\\sqrt{R^{4} - R^{2} \\rho^{2} k + R^{2} \\rho^{2} \\left|{\\frac{R}{\\sqrt{R^{2} - \\rho^{2} k - \\rho^{2}}}}\\right|^{2} - R^{2} \\rho^{2} - \\rho^{4} k \\left|{\\frac{R}{\\sqrt{R^{2} - \\rho^{2} k - \\rho^{2}}}}\\right|^{2} - \\rho^{4} \\left|{\\frac{R}{\\sqrt{R^{2} - \\rho^{2} k - \\rho^{2}}}}\\right|^{2}}}\\\\\\frac{\\left|{R}\\right|}{\\sqrt{R^{2} + \\rho^{2} \\left|{\\frac{R}{\\sqrt{R^{2} - \\rho^{2} k - \\rho^{2}}}}\\right|^{2}}}\\end{matrix}\\right]$$"
      ],
      "text/plain": [
       "⎡                                                                        -R⋅\\r\n",
       "⎢─────────────────────────────────────────────────────────────────────────────\n",
       "⎢       ______________________________________________________________________\n",
       "⎢      ╱                                                       2              \n",
       "⎢     ╱   4    2     2      2     2 │            R            │     2     2   \n",
       "⎢    ╱   R  - R ⋅\\rho ⋅k + R ⋅\\rho ⋅│─────────────────────────│  - R ⋅\\rho  - \n",
       "⎢   ╱                               │   ______________________│               \n",
       "⎢  ╱                                │  ╱  2       2         2 │               \n",
       "⎢╲╱                                 │╲╱  R  - \\rho ⋅k - \\rho  │               \n",
       "⎢                                                                             \n",
       "⎢                                                                         │R│ \n",
       "⎢                                                   ──────────────────────────\n",
       "⎢                                                          ___________________\n",
       "⎢                                                         ╱                   \n",
       "⎢                                                        ╱   2       2 │      \n",
       "⎢                                                       ╱   R  + \\rho ⋅│──────\n",
       "⎢                                                      ╱               │   ___\n",
       "⎢                                                     ╱                │  ╱  2\n",
       "⎣                                                   ╲╱                 │╲╱  R \n",
       "\n",
       "ho                                                                        ⎤\n",
       "──────────────────────────────────────────────────────────────────────────⎥\n",
       "__________________________________________________________________________⎥\n",
       "                                   2                                    2 ⎥\n",
       "    4   │            R            │        4 │            R            │  ⎥\n",
       "\\rho ⋅k⋅│─────────────────────────│  - \\rho ⋅│─────────────────────────│  ⎥\n",
       "        │   ______________________│          │   ______________________│  ⎥\n",
       "        │  ╱  2       2         2 │          │  ╱  2       2         2 │  ⎥\n",
       "        │╲╱  R  - \\rho ⋅k - \\rho  │          │╲╱  R  - \\rho ⋅k - \\rho  │  ⎥\n",
       "                                                                          ⎥\n",
       "                                                                          ⎥\n",
       "──────────────────────                                                    ⎥\n",
       "______________________                                                    ⎥\n",
       "                    2                                                     ⎥\n",
       "      R            │                                                      ⎥\n",
       "───────────────────│                                                      ⎥\n",
       "___________________│                                                      ⎥\n",
       "       2         2 │                                                      ⎥\n",
       " - \\rho ⋅k - \\rho  │                                                      ⎦"
      ]
     },
     "execution_count": 10,
     "metadata": {},
     "output_type": "execute_result"
    }
   ],
   "source": [
    "conconst = z-conz\n",
    "norm = sp.simplify(sp.Matrix([sp.diff(conconst, rho), sp.diff(conconst,z)]))\n",
    "norm = sp.simplify(norm / norm.norm())\n",
    "norm"
   ]
  },
  {
   "cell_type": "markdown",
   "metadata": {},
   "source": [
    "We also need a way to write our arbitrary point $p$:"
   ]
  },
  {
   "cell_type": "code",
   "execution_count": 11,
   "metadata": {},
   "outputs": [
    {
     "data": {
      "text/latex": [
       "$$\\left[\\begin{matrix}\\rho\\\\\\frac{\\rho^{2}}{R \\left(\\sqrt{1 - \\frac{\\rho^{2} \\left(k + 1\\right)}{R^{2}}} + 1\\right)}\\end{matrix}\\right]$$"
      ],
      "text/plain": [
       "⎡              \\rho               ⎤\n",
       "⎢                                 ⎥\n",
       "⎢                  2              ⎥\n",
       "⎢              \\rho               ⎥\n",
       "⎢─────────────────────────────────⎥\n",
       "⎢  ⎛      ___________________    ⎞⎥\n",
       "⎢  ⎜     ╱         2             ⎟⎥\n",
       "⎢  ⎜    ╱      \\rho ⋅(k + 1)     ⎟⎥\n",
       "⎢R⋅⎜   ╱   1 - ─────────────  + 1⎟⎥\n",
       "⎢  ⎜  ╱               2          ⎟⎥\n",
       "⎣  ⎝╲╱               R           ⎠⎦"
      ]
     },
     "execution_count": 11,
     "metadata": {},
     "output_type": "execute_result"
    }
   ],
   "source": [
    "conic_point = sp.Matrix([rho, conz])\n",
    "conic_point"
   ]
  },
  {
   "cell_type": "markdown",
   "metadata": {},
   "source": [
    "And we can now displace our point $p$ a distance $\\delta$ along the local normal:"
   ]
  },
  {
   "cell_type": "code",
   "execution_count": 12,
   "metadata": {},
   "outputs": [
    {
     "data": {
      "text/latex": [
       "$$\\left[\\begin{matrix}- \\frac{R \\delta \\rho}{\\sqrt{R^{4} - R^{2} \\rho^{2} k + R^{2} \\rho^{2} \\left|{\\frac{R}{\\sqrt{R^{2} - \\rho^{2} k - \\rho^{2}}}}\\right|^{2} - R^{2} \\rho^{2} - \\rho^{4} k \\left|{\\frac{R}{\\sqrt{R^{2} - \\rho^{2} k - \\rho^{2}}}}\\right|^{2} - \\rho^{4} \\left|{\\frac{R}{\\sqrt{R^{2} - \\rho^{2} k - \\rho^{2}}}}\\right|^{2}}} + \\rho\\\\\\frac{\\delta \\left|{R}\\right|}{\\sqrt{R^{2} + \\rho^{2} \\left|{\\frac{R}{\\sqrt{R^{2} - \\rho^{2} k - \\rho^{2}}}}\\right|^{2}}} + \\frac{\\rho^{2}}{R \\left(\\sqrt{1 - \\frac{\\rho^{2} \\left(k + 1\\right)}{R^{2}}} + 1\\right)}\\end{matrix}\\right]$$"
      ],
      "text/plain": [
       "⎡                                                                       R⋅\\del\n",
       "⎢- ───────────────────────────────────────────────────────────────────────────\n",
       "⎢         ____________________________________________________________________\n",
       "⎢        ╱                                                       2            \n",
       "⎢       ╱   4    2     2      2     2 │            R            │     2     2 \n",
       "⎢      ╱   R  - R ⋅\\rho ⋅k + R ⋅\\rho ⋅│─────────────────────────│  - R ⋅\\rho  \n",
       "⎢     ╱                               │   ______________________│             \n",
       "⎢    ╱                                │  ╱  2       2         2 │             \n",
       "⎢  ╲╱                                 │╲╱  R  - \\rho ⋅k - \\rho  │             \n",
       "⎢                                                                             \n",
       "⎢                                                                             \n",
       "⎢                                                         \\delta⋅│R│          \n",
       "⎢                                      ───────────────────────────────────────\n",
       "⎢                                             ________________________________\n",
       "⎢                                            ╱                                \n",
       "⎢                                           ╱   2       2 │            R      \n",
       "⎢                                          ╱   R  + \\rho ⋅│───────────────────\n",
       "⎢                                         ╱               │   ________________\n",
       "⎢                                        ╱                │  ╱  2       2     \n",
       "⎣                                      ╲╱                 │╲╱  R  - \\rho ⋅k - \n",
       "\n",
       "ta⋅\\rho                                                                       \n",
       "──────────────────────────────────────────────────────────────────────────── +\n",
       "____________________________________________________________________________  \n",
       "                                     2                                    2   \n",
       "      4   │            R            │        4 │            R            │    \n",
       "- \\rho ⋅k⋅│─────────────────────────│  - \\rho ⋅│─────────────────────────│    \n",
       "          │   ______________________│          │   ______________________│    \n",
       "          │  ╱  2       2         2 │          │  ╱  2       2         2 │    \n",
       "          │╲╱  R  - \\rho ⋅k - \\rho  │          │╲╱  R  - \\rho ⋅k - \\rho  │    \n",
       "                                                                              \n",
       "                              2                                               \n",
       "                          \\rho                                                \n",
       "───────── + ─────────────────────────────────                                 \n",
       "_________     ⎛      ___________________    ⎞                                 \n",
       "       2      ⎜     ╱         2             ⎟                                 \n",
       "      │       ⎜    ╱      \\rho ⋅(k + 1)     ⎟                                 \n",
       "──────│     R⋅⎜   ╱   1 - ─────────────  + 1⎟                                 \n",
       "______│       ⎜  ╱               2          ⎟                                 \n",
       "    2 │       ⎝╲╱               R           ⎠                                 \n",
       "\\rho  │                                                                       \n",
       "\n",
       "     ⎤\n",
       " \\rho⎥\n",
       "     ⎥\n",
       "     ⎥\n",
       "     ⎥\n",
       "     ⎥\n",
       "     ⎥\n",
       "     ⎥\n",
       "     ⎥\n",
       "     ⎥\n",
       "     ⎥\n",
       "     ⎥\n",
       "     ⎥\n",
       "     ⎥\n",
       "     ⎥\n",
       "     ⎥\n",
       "     ⎥\n",
       "     ⎥\n",
       "     ⎥\n",
       "     ⎦"
      ]
     },
     "execution_count": 12,
     "metadata": {},
     "output_type": "execute_result"
    }
   ],
   "source": [
    "disp_point = conic_point + d*norm\n",
    "disp_point"
   ]
  },
  {
   "cell_type": "markdown",
   "metadata": {},
   "source": [
    "We now run this displaced point through our formula:"
   ]
  },
  {
   "cell_type": "code",
   "execution_count": 13,
   "metadata": {},
   "outputs": [],
   "source": [
    "ddist = sp.simplify(dmin0.subs(rho0, disp_point[0]).subs(z0, disp_point[1]))"
   ]
  },
  {
   "cell_type": "code",
   "execution_count": 14,
   "metadata": {},
   "outputs": [
    {
     "data": {
      "image/png": "[encoded data removed]",
      "text/latex": [
       "$$\\sqrt{- \\frac{- R^{2} + k \\left(\\frac{R \\delta \\rho}{\\sqrt{R^{4} - R^{2} \\rho^{2} k + R^{2} \\rho^{2} \\left|{\\frac{R}{\\sqrt{R^{2} - \\rho^{2} k - \\rho^{2}}}}\\right|^{2} - R^{2} \\rho^{2} - \\rho^{4} k \\left|{\\frac{R}{\\sqrt{R^{2} - \\rho^{2} k - \\rho^{2}}}}\\right|^{2} - \\rho^{4} \\left|{\\frac{R}{\\sqrt{R^{2} - \\rho^{2} k - \\rho^{2}}}}\\right|^{2}}} - \\rho\\right)^{2} + \\left(\\frac{R \\delta \\rho}{\\sqrt{R^{4} - R^{2} \\rho^{2} k + R^{2} \\rho^{2} \\left|{\\frac{R}{\\sqrt{R^{2} - \\rho^{2} k - \\rho^{2}}}}\\right|^{2} - R^{2} \\rho^{2} - \\rho^{4} k \\left|{\\frac{R}{\\sqrt{R^{2} - \\rho^{2} k - \\rho^{2}}}}\\right|^{2} - \\rho^{4} \\left|{\\frac{R}{\\sqrt{R^{2} - \\rho^{2} k - \\rho^{2}}}}\\right|^{2}}} - \\rho\\right)^{2}}{R^{2} - k \\left(\\frac{R \\delta \\rho}{\\sqrt{R^{4} - R^{2} \\rho^{2} k + R^{2} \\rho^{2} \\left|{\\frac{R}{\\sqrt{R^{2} - \\rho^{2} k - \\rho^{2}}}}\\right|^{2} - R^{2} \\rho^{2} - \\rho^{4} k \\left|{\\frac{R}{\\sqrt{R^{2} - \\rho^{2} k - \\rho^{2}}}}\\right|^{2} - \\rho^{4} \\left|{\\frac{R}{\\sqrt{R^{2} - \\rho^{2} k - \\rho^{2}}}}\\right|^{2}}} - \\rho\\right)^{2}}} \\left(\\frac{\\delta \\left|{R}\\right|}{\\sqrt{R^{2} + \\rho^{2} \\left|{\\frac{R}{\\sqrt{R^{2} - \\rho^{2} k - \\rho^{2}}}}\\right|^{2}}} + \\frac{\\rho^{2}}{R \\left(\\sqrt{1 - \\frac{\\rho^{2} \\left(k + 1\\right)}{R^{2}}} + 1\\right)} - \\frac{\\left(\\frac{R \\delta \\rho}{\\sqrt{R^{4} - R^{2} \\rho^{2} k + R^{2} \\rho^{2} \\left|{\\frac{R}{\\sqrt{R^{2} - \\rho^{2} k - \\rho^{2}}}}\\right|^{2} - R^{2} \\rho^{2} - \\rho^{4} k \\left|{\\frac{R}{\\sqrt{R^{2} - \\rho^{2} k - \\rho^{2}}}}\\right|^{2} - \\rho^{4} \\left|{\\frac{R}{\\sqrt{R^{2} - \\rho^{2} k - \\rho^{2}}}}\\right|^{2}}} - \\rho\\right)^{2}}{R \\left(\\sqrt{1 - \\frac{\\left(k + 1\\right) \\left(\\frac{R \\delta \\rho}{\\sqrt{R^{4} - R^{2} \\rho^{2} k + R^{2} \\rho^{2} \\left|{\\frac{R}{\\sqrt{R^{2} - \\rho^{2} k - \\rho^{2}}}}\\right|^{2} - R^{2} \\rho^{2} - \\rho^{4} k \\left|{\\frac{R}{\\sqrt{R^{2} - \\rho^{2} k - \\rho^{2}}}}\\right|^{2} - \\rho^{4} \\left|{\\frac{R}{\\sqrt{R^{2} - \\rho^{2} k - \\rho^{2}}}}\\right|^{2}}} - \\rho\\right)^{2}}{R^{2}}} + 1\\right)}\\right)$$"
      ],
      "text/plain": [
       "                      ________________________________________________________\n",
       "                     ╱  ⎛                                                     \n",
       "                    ╱   ⎜   2     ⎛                                           \n",
       "                   ╱   -⎜- R  + k⋅⎜───────────────────────────────────────────\n",
       "                  ╱     ⎜         ⎜       ____________________________________\n",
       "                 ╱      ⎜         ⎜      ╱                                    \n",
       "                ╱       ⎜         ⎜     ╱   4    2     2      2     2 │       \n",
       "               ╱        ⎜         ⎜    ╱   R  - R ⋅\\rho ⋅k + R ⋅\\rho ⋅│───────\n",
       "              ╱         ⎜         ⎜   ╱                               │   ____\n",
       "             ╱          ⎜         ⎜  ╱                                │  ╱  2 \n",
       "            ╱           ⎝         ⎝╲╱                                 │╲╱  R  \n",
       "           ╱           ───────────────────────────────────────────────────────\n",
       "          ╱                                                                   \n",
       "         ╱                                                                    \n",
       "        ╱                                                                     \n",
       "       ╱                                                                      \n",
       "      ╱                                                                       \n",
       "     ╱                                                                        \n",
       "    ╱                                                                         \n",
       "   ╱                                                                          \n",
       "  ╱                                                                           \n",
       "╲╱                                                                            \n",
       "                                                                              \n",
       "                                                                              \n",
       "                                                                              \n",
       "                                                                              \n",
       "\n",
       "______________________________________________________________________________\n",
       "                                                                              \n",
       "                          R⋅\\delta⋅\\rho                                       \n",
       "──────────────────────────────────────────────────────────────────────────────\n",
       "______________________________________________________________________________\n",
       "                   2                                                 2        \n",
       "     R            │     2     2       4   │            R            │        4\n",
       "──────────────────│  - R ⋅\\rho  - \\rho ⋅k⋅│─────────────────────────│  - \\rho \n",
       "__________________│                       │   ______________________│         \n",
       "      2         2 │                       │  ╱  2       2         2 │         \n",
       "- \\rho ⋅k - \\rho  │                       │╲╱  R  - \\rho ⋅k - \\rho  │         \n",
       "──────────────────────────────────────────────────────────────────────────────\n",
       "                                                                              \n",
       "                               2     ⎛                                        \n",
       "                              R  - k⋅⎜────────────────────────────────────────\n",
       "                                     ⎜       _________________________________\n",
       "                                     ⎜      ╱                                 \n",
       "                                     ⎜     ╱   4    2     2      2     2 │    \n",
       "                                     ⎜    ╱   R  - R ⋅\\rho ⋅k + R ⋅\\rho ⋅│────\n",
       "                                     ⎜   ╱                               │   _\n",
       "                                     ⎜  ╱                                │  ╱ \n",
       "                                     ⎝╲╱                                 │╲╱  \n",
       "                                                                              \n",
       "                                                                              \n",
       "                                                                              \n",
       "                                                                              \n",
       "\n",
       "______________________________________________________________________________\n",
       "                                      2                                       \n",
       "                                     ⎞    ⎛                                   \n",
       "────────────────────────────── - \\rho⎟  + ⎜───────────────────────────────────\n",
       "______________________________       ⎟    ⎜       ____________________________\n",
       "                            2        ⎟    ⎜      ╱                            \n",
       " │            R            │         ⎟    ⎜     ╱   4    2     2      2     2 \n",
       "⋅│─────────────────────────│         ⎟    ⎜    ╱   R  - R ⋅\\rho ⋅k + R ⋅\\rho ⋅\n",
       " │   ______________________│         ⎟    ⎜   ╱                               \n",
       " │  ╱  2       2         2 │         ⎟    ⎜  ╱                                \n",
       " │╲╱  R  - \\rho ⋅k - \\rho  │         ⎠    ⎝╲╱                                 \n",
       "──────────────────────────────────────────────────────────────────────────────\n",
       "                                                                              \n",
       "                             R⋅\\delta⋅\\rho                                    \n",
       "──────────────────────────────────────────────────────────────────────────────\n",
       "______________________________________________________________________________\n",
       "                      2                                                 2     \n",
       "        R            │     2     2       4   │            R            │      \n",
       "─────────────────────│  - R ⋅\\rho  - \\rho ⋅k⋅│─────────────────────────│  - \\r\n",
       "_____________________│                       │   ______________________│      \n",
       " 2       2         2 │                       │  ╱  2       2         2 │      \n",
       "R  - \\rho ⋅k - \\rho  │                       │╲╱  R  - \\rho ⋅k - \\rho  │      \n",
       "                                                                              \n",
       "                                                                              \n",
       "                                                                              \n",
       "                                                                              \n",
       "\n",
       "______________________________________________________________________________\n",
       "                                                                              \n",
       "                                  R⋅\\delta⋅\\rho                               \n",
       "──────────────────────────────────────────────────────────────────────────────\n",
       "______________________________________________________________________________\n",
       "                           2                                                 2\n",
       "│            R            │     2     2       4   │            R            │ \n",
       "│─────────────────────────│  - R ⋅\\rho  - \\rho ⋅k⋅│─────────────────────────│ \n",
       "│   ______________________│                       │   ______________________│ \n",
       "│  ╱  2       2         2 │                       │  ╱  2       2         2 │ \n",
       "│╲╱  R  - \\rho ⋅k - \\rho  │                       │╲╱  R  - \\rho ⋅k - \\rho  │ \n",
       "──────────────────────────────────────────────────────────────────────────────\n",
       "                                         2                                    \n",
       "                                        ⎞                                     \n",
       "───────────────────────────────── - \\rho⎟                                     \n",
       "_________________________________       ⎟                                     \n",
       "                               2        ⎟                                     \n",
       "  4 │            R            │         ⎟                                     \n",
       "ho ⋅│─────────────────────────│         ⎟                                     \n",
       "    │   ______________________│         ⎟                                     \n",
       "    │  ╱  2       2         2 │         ⎟                                     \n",
       "    │╲╱  R  - \\rho ⋅k - \\rho  │         ⎠                                     \n",
       "                                                                              \n",
       "                                                                              \n",
       "                                                                              \n",
       "                                                                              \n",
       "\n",
       "__________________________________________________                            \n",
       "                                              2⎞   ⎛                          \n",
       "                                             ⎞ ⎟   ⎜                          \n",
       "────────────────────────────────────── - \\rho⎟ ⎟   ⎜                          \n",
       "______________________________________       ⎟ ⎟   ⎜                          \n",
       "                                    2        ⎟ ⎟   ⎜                          \n",
       "       4 │            R            │         ⎟ ⎟   ⎜                          \n",
       " - \\rho ⋅│─────────────────────────│         ⎟ ⎟   ⎜                          \n",
       "         │   ______________________│         ⎟ ⎟   ⎜                          \n",
       "         │  ╱  2       2         2 │         ⎟ ⎟   ⎜                          \n",
       "         │╲╱  R  - \\rho ⋅k - \\rho  │         ⎠ ⎠   ⎜                   \\delta⋅\n",
       "───────────────────────────────────────────────── ⋅⎜──────────────────────────\n",
       "                                                   ⎜       ___________________\n",
       "                                                   ⎜      ╱                   \n",
       "                                                   ⎜     ╱   2       2 │      \n",
       "                                                   ⎜    ╱   R  + \\rho ⋅│──────\n",
       "                                                   ⎜   ╱               │   ___\n",
       "                                                   ⎜  ╱                │  ╱  2\n",
       "                                                   ⎜╲╱                 │╲╱  R \n",
       "                                                   ⎜                          \n",
       "                                                   ⎜                          \n",
       "                                                   ⎜                          \n",
       "                                                   ⎜                          \n",
       "                                                   ⎜                          \n",
       "                                                   ⎜                          \n",
       "                                                   ⎝                          \n",
       "\n",
       "                                                                              \n",
       "                                                                              \n",
       "                                                                              \n",
       "                                                                              \n",
       "                                                                              \n",
       "                                                                              \n",
       "                                                                              \n",
       "                                                                              \n",
       "                                                                              \n",
       "                                           2                                  \n",
       "│R│                                    \\rho                                   \n",
       "────────────────────── + ───────────────────────────────── - ─────────────────\n",
       "______________________     ⎛      ___________________    ⎞     ⎛              \n",
       "                    2      ⎜     ╱         2             ⎟     ⎜             ╱\n",
       "      R            │       ⎜    ╱      \\rho ⋅(k + 1)     ⎟     ⎜            ╱ \n",
       "───────────────────│     R⋅⎜   ╱   1 - ─────────────  + 1⎟     ⎜           ╱  \n",
       "___________________│       ⎜  ╱               2          ⎟     ⎜          ╱   \n",
       "       2         2 │       ⎝╲╱               R           ⎠     ⎜         ╱    \n",
       " - \\rho ⋅k - \\rho  │                                           ⎜        ╱     \n",
       "                                                               ⎜       ╱      \n",
       "                                                               ⎜      ╱       \n",
       "                                                               ⎜     ╱        \n",
       "                                                               ⎜    ╱         \n",
       "                                                             R⋅⎜   ╱          \n",
       "                                                               ⎜  ╱           \n",
       "                                                               ⎝╲╱            \n",
       "\n",
       "                                                                              \n",
       "                                                                              \n",
       " ⎛                                                                     R⋅\\delt\n",
       " ⎜────────────────────────────────────────────────────────────────────────────\n",
       " ⎜       _____________________________________________________________________\n",
       " ⎜      ╱                                                       2             \n",
       " ⎜     ╱   4    2     2      2     2 │            R            │     2     2  \n",
       " ⎜    ╱   R  - R ⋅\\rho ⋅k + R ⋅\\rho ⋅│─────────────────────────│  - R ⋅\\rho  -\n",
       " ⎜   ╱                               │   ______________________│              \n",
       " ⎜  ╱                                │  ╱  2       2         2 │              \n",
       " ⎝╲╱                                 │╲╱  R  - \\rho ⋅k - \\rho  │              \n",
       "──────────────────────────────────────────────────────────────────────────────\n",
       "______________________________________________________________________________\n",
       "                                                                              \n",
       "             ⎛                                                                \n",
       "     (k + 1)⋅⎜────────────────────────────────────────────────────────────────\n",
       "             ⎜       _________________________________________________________\n",
       "             ⎜      ╱                                                       2 \n",
       "             ⎜     ╱   4    2     2      2     2 │            R            │  \n",
       "             ⎜    ╱   R  - R ⋅\\rho ⋅k + R ⋅\\rho ⋅│─────────────────────────│  \n",
       "             ⎜   ╱                               │   ______________________│  \n",
       "             ⎜  ╱                                │  ╱  2       2         2 │  \n",
       "             ⎝╲╱                                 │╲╱  R  - \\rho ⋅k - \\rho  │  \n",
       " 1 - ─────────────────────────────────────────────────────────────────────────\n",
       "                                                                              \n",
       "                                                                              \n",
       "\n",
       "                                                                              \n",
       "                                                                              \n",
       "a⋅\\rho                                                                        \n",
       "─────────────────────────────────────────────────────────────────────────── - \n",
       "___________________________________________________________________________   \n",
       "                                    2                                    2    \n",
       "     4   │            R            │        4 │            R            │     \n",
       " \\rho ⋅k⋅│─────────────────────────│  - \\rho ⋅│─────────────────────────│     \n",
       "         │   ______________________│          │   ______________________│     \n",
       "         │  ╱  2       2         2 │          │  ╱  2       2         2 │     \n",
       "         │╲╱  R  - \\rho ⋅k - \\rho  │          │╲╱  R  - \\rho ⋅k - \\rho  │     \n",
       "──────────────────────────────────────────────────────────────────────────────\n",
       "______________________________________________________________________________\n",
       "                                                                              \n",
       "     R⋅\\delta⋅\\rho                                                            \n",
       "──────────────────────────────────────────────────────────────────────────────\n",
       "______________________________________________________________________________\n",
       "                                                2                             \n",
       "   2     2       4   │            R            │        4 │            R      \n",
       "- R ⋅\\rho  - \\rho ⋅k⋅│─────────────────────────│  - \\rho ⋅│───────────────────\n",
       "                     │   ______________________│          │   ________________\n",
       "                     │  ╱  2       2         2 │          │  ╱  2       2     \n",
       "                     │╲╱  R  - \\rho ⋅k - \\rho  │          │╲╱  R  - \\rho ⋅k - \n",
       "──────────────────────────────────────────────────────────────────────────────\n",
       "            2                                                                 \n",
       "           R                                                                  \n",
       "\n",
       "                         \n",
       "     2                  ⎞\n",
       "    ⎞                   ⎟\n",
       "\\rho⎟                   ⎟\n",
       "    ⎟                   ⎟\n",
       "    ⎟                   ⎟\n",
       "    ⎟                   ⎟\n",
       "    ⎟                   ⎟\n",
       "    ⎟                   ⎟\n",
       "    ⎟                   ⎟\n",
       "    ⎠                   ⎟\n",
       "────────────────────────⎟\n",
       "___________________    ⎞⎟\n",
       "                 2     ⎟⎟\n",
       "                ⎞      ⎟⎟\n",
       "───────── - \\rho⎟      ⎟⎟\n",
       "_________       ⎟      ⎟⎟\n",
       "       2        ⎟      ⎟⎟\n",
       "      │         ⎟      ⎟⎟\n",
       "──────│         ⎟      ⎟⎟\n",
       "______│         ⎟      ⎟⎟\n",
       "    2 │         ⎟      ⎟⎟\n",
       "\\rho  │         ⎠      ⎟⎟\n",
       "──────────────────  + 1⎟⎟\n",
       "                       ⎟⎟\n",
       "                       ⎠⎠"
      ]
     },
     "execution_count": 14,
     "metadata": {},
     "output_type": "execute_result"
    }
   ],
   "source": [
    "ddist"
   ]
  },
  {
   "cell_type": "code",
   "execution_count": 15,
   "metadata": {},
   "outputs": [],
   "source": [
    "def numeric(val, Rval=100, kval=-.1, rval=50, dval=.1):\n",
    "    return sp.N(val.subs(R, Rval).subs(rho,rval).subs(k,kval).subs(d,dval))"
   ]
  },
  {
   "cell_type": "code",
   "execution_count": 16,
   "metadata": {},
   "outputs": [],
   "source": [
    "def pcterreval(val, Rval=100, kval=-.1, rval=50, dval=.1):\n",
    "    return 100*(numeric(val) - dval)/dval"
   ]
  },
  {
   "cell_type": "code",
   "execution_count": 17,
   "metadata": {},
   "outputs": [
    {
     "data": {
      "image/png": "[encoded data removed]",
      "text/latex": [
       "$$0.0155235045891378$$"
      ],
      "text/plain": [
       "0.0155235045891378"
      ]
     },
     "execution_count": 17,
     "metadata": {},
     "output_type": "execute_result"
    }
   ],
   "source": [
    "pcterreval(ddist)"
   ]
  },
  {
   "cell_type": "markdown",
   "metadata": {},
   "source": [
    "We can use the above to evaluate at various points and test our error. \n",
    "\n",
    "We can also look at the derivatives of this function:"
   ]
  },
  {
   "cell_type": "code",
   "execution_count": 18,
   "metadata": {},
   "outputs": [
    {
     "data": {
      "image/png": "[encoded data removed]",
      "text/latex": [
       "$$\\sqrt{- \\frac{- R^{2} + \\rho^{2} k + \\rho^{2}}{R^{2} - \\rho^{2} k}} \\left(\\frac{2 \\rho^{2}}{\\left(\\sqrt{1 - \\frac{\\rho^{2} \\left(k + 1\\right)}{R^{2}}} + 1\\right) \\sqrt{R^{4} - R^{2} \\rho^{2} k + R^{2} \\rho^{2} \\left|{\\frac{R}{\\sqrt{R^{2} - \\rho^{2} k - \\rho^{2}}}}\\right|^{2} - R^{2} \\rho^{2} - \\rho^{4} k \\left|{\\frac{R}{\\sqrt{R^{2} - \\rho^{2} k - \\rho^{2}}}}\\right|^{2} - \\rho^{4} \\left|{\\frac{R}{\\sqrt{R^{2} - \\rho^{2} k - \\rho^{2}}}}\\right|^{2}}} + \\frac{\\left|{R}\\right|}{\\sqrt{R^{2} + \\rho^{2} \\left|{\\frac{R}{\\sqrt{R^{2} - \\rho^{2} k - \\rho^{2}}}}\\right|^{2}}} + \\frac{\\rho^{4} \\left(k + 1\\right)}{R^{2} \\sqrt{1 - \\frac{\\rho^{2} \\left(k + 1\\right)}{R^{2}}} \\left(\\sqrt{1 - \\frac{\\rho^{2} \\left(k + 1\\right)}{R^{2}}} + 1\\right)^{2} \\sqrt{R^{4} - R^{2} \\rho^{2} k + R^{2} \\rho^{2} \\left|{\\frac{R}{\\sqrt{R^{2} - \\rho^{2} k - \\rho^{2}}}}\\right|^{2} - R^{2} \\rho^{2} - \\rho^{4} k \\left|{\\frac{R}{\\sqrt{R^{2} - \\rho^{2} k - \\rho^{2}}}}\\right|^{2} - \\rho^{4} \\left|{\\frac{R}{\\sqrt{R^{2} - \\rho^{2} k - \\rho^{2}}}}\\right|^{2}}}\\right)$$"
      ],
      "text/plain": [
       "      ____________________________                                            \n",
       "     ╱  ⎛   2       2         2⎞   ⎛                                          \n",
       "    ╱  -⎝- R  + \\rho ⋅k + \\rho ⎠   ⎜                                          \n",
       "   ╱   ────────────────────────── ⋅⎜──────────────────────────────────────────\n",
       "  ╱            2       2           ⎜⎛      ___________________    ⎞        ___\n",
       "╲╱            R  - \\rho ⋅k         ⎜⎜     ╱         2             ⎟       ╱   \n",
       "                                   ⎜⎜    ╱      \\rho ⋅(k + 1)     ⎟      ╱   4\n",
       "                                   ⎜⎜   ╱   1 - ─────────────  + 1⎟⋅    ╱   R \n",
       "                                   ⎜⎜  ╱               2          ⎟    ╱      \n",
       "                                   ⎜⎝╲╱               R           ⎠   ╱       \n",
       "                                   ⎜                                ╲╱        \n",
       "                                   ⎝                                          \n",
       "\n",
       "                                                                              \n",
       "                                                    2                         \n",
       "                                              2⋅\\rho                          \n",
       "──────────────────────────────────────────────────────────────────────────────\n",
       "______________________________________________________________________________\n",
       "                                                    2                         \n",
       "    2     2      2     2 │            R            │     2     2       4   │  \n",
       " - R ⋅\\rho ⋅k + R ⋅\\rho ⋅│─────────────────────────│  - R ⋅\\rho  - \\rho ⋅k⋅│──\n",
       "                         │   ______________________│                       │  \n",
       "                         │  ╱  2       2         2 │                       │  \n",
       "                         │╲╱  R  - \\rho ⋅k - \\rho  │                       │╲╱\n",
       "                                                                              \n",
       "\n",
       "                                                                              \n",
       "                                                                              \n",
       "                                                                              \n",
       "─────────────────────────────────────────────────────────────── + ────────────\n",
       "_______________________________________________________________          _____\n",
       "                        2                                    2          ╱     \n",
       "          R            │        4 │            R            │          ╱   2  \n",
       "───────────────────────│  - \\rho ⋅│─────────────────────────│         ╱   R  +\n",
       " ______________________│          │   ______________________│        ╱        \n",
       "╱  2       2         2 │          │  ╱  2       2         2 │       ╱         \n",
       "  R  - \\rho ⋅k - \\rho  │          │╲╱  R  - \\rho ⋅k - \\rho  │     ╲╱          \n",
       "                                                                              \n",
       "\n",
       "                                                                              \n",
       "                                                                              \n",
       "          │R│                                                                 \n",
       "──────────────────────────────────── + ───────────────────────────────────────\n",
       "____________________________________                                          \n",
       "                                  2             ___________________ ⎛      ___\n",
       "     2 │            R            │             ╱         2          ⎜     ╱   \n",
       " \\rho ⋅│─────────────────────────│      2     ╱      \\rho ⋅(k + 1)  ⎜    ╱    \n",
       "       │   ______________________│     R ⋅   ╱   1 - ───────────── ⋅⎜   ╱   1 \n",
       "       │  ╱  2       2         2 │          ╱               2       ⎜  ╱      \n",
       "       │╲╱  R  - \\rho ⋅k - \\rho  │        ╲╱               R        ⎝╲╱       \n",
       "                                                                              \n",
       "\n",
       "                                                                              \n",
       "                                                                 4            \n",
       "                                                             \\rho ⋅(k + 1)    \n",
       "──────────────────────────────────────────────────────────────────────────────\n",
       "                     2                                                        \n",
       "________________    ⎞         ________________________________________________\n",
       "      2             ⎟        ╱                                                \n",
       "  \\rho ⋅(k + 1)     ⎟       ╱   4    2     2      2     2 │            R      \n",
       "- ─────────────  + 1⎟ ⋅    ╱   R  - R ⋅\\rho ⋅k + R ⋅\\rho ⋅│───────────────────\n",
       "         2          ⎟     ╱                               │   ________________\n",
       "        R           ⎠    ╱                                │  ╱  2       2     \n",
       "                       ╲╱                                 │╲╱  R  - \\rho ⋅k - \n",
       "\n",
       "                                                                              \n",
       "                                                                              \n",
       "                                                                              \n",
       "──────────────────────────────────────────────────────────────────────────────\n",
       "                                                                              \n",
       "______________________________________________________________________________\n",
       "       2                                                 2                    \n",
       "      │     2     2       4   │            R            │        4 │          \n",
       "──────│  - R ⋅\\rho  - \\rho ⋅k⋅│─────────────────────────│  - \\rho ⋅│──────────\n",
       "______│                       │   ______________________│          │   _______\n",
       "    2 │                       │  ╱  2       2         2 │          │  ╱  2    \n",
       "\\rho  │                       │╲╱  R  - \\rho ⋅k - \\rho  │          │╲╱  R  - \\\n",
       "\n",
       "                   \n",
       "                  ⎞\n",
       "                  ⎟\n",
       "──────────────────⎟\n",
       "                  ⎟\n",
       "__________________⎟\n",
       "                2 ⎟\n",
       "  R            │  ⎟\n",
       "───────────────│  ⎟\n",
       "_______________│  ⎟\n",
       "   2         2 │  ⎟\n",
       "rho ⋅k - \\rho  │  ⎠"
      ]
     },
     "execution_count": 18,
     "metadata": {},
     "output_type": "execute_result"
    }
   ],
   "source": [
    "ddist_deriv = sp.diff(ddist, d).subs(d,0)\n",
    "ddist_deriv2 = sp.diff(ddist, d,2).subs(d,0)\n",
    "ddist_deriv"
   ]
  },
  {
   "cell_type": "code",
   "execution_count": 19,
   "metadata": {},
   "outputs": [
    {
     "name": "stdout",
     "output_type": "stream",
     "text": [
      "1.00000000000000\n",
      "0.00310851171250854\n"
     ]
    }
   ],
   "source": [
    "print(numeric(ddist_deriv))\n",
    "print(numeric(ddist_deriv2))\n"
   ]
  },
  {
   "cell_type": "markdown",
   "metadata": {},
   "source": [
    "While SymPy will not algebraically reduce the expression for the first derivative, we can see by evaluating it a lots of points that while the expression for the conic is valid (i.e. not imaginary), the first derivative is equal to 1. This implies that we have correctly captured the displacement distance to first order in $\\delta$"
   ]
  },
  {
   "cell_type": "code",
   "execution_count": 20,
   "metadata": {},
   "outputs": [],
   "source": [
    "ddist_deriv2 = sp.diff(ddist, d,2).subs(d,0)\n"
   ]
  },
  {
   "cell_type": "code",
   "execution_count": 21,
   "metadata": {},
   "outputs": [
    {
     "data": {
      "image/png": "[encoded data removed]",
      "text/latex": [
       "$$0.00310851171250854$$"
      ],
      "text/plain": [
       "0.00310851171250854"
      ]
     },
     "execution_count": 21,
     "metadata": {},
     "output_type": "execute_result"
    }
   ],
   "source": [
    "numeric(ddist_deriv2)"
   ]
  },
  {
   "cell_type": "code",
   "execution_count": 22,
   "metadata": {},
   "outputs": [
    {
     "data": {
      "image/png": "[encoded data removed]",
      "text/latex": [
       "$$1$$"
      ],
      "text/plain": [
       "1"
      ]
     },
     "execution_count": 22,
     "metadata": {},
     "output_type": "execute_result"
    }
   ],
   "source": [
    "test=sp.simplify(ddist_deriv.subs(k,-1))\n",
    "test"
   ]
  },
  {
   "cell_type": "markdown",
   "metadata": {},
   "source": [
    "## Uncertainty Propagation\n",
    "We will assume we are given uncertainties ($\\sigma_{X_0}$,$\\sigma_{Y_0}$,$\\sigma_{Z_0}$). \n",
    "\n",
    "We want to calculate $\\sigma_{d_{min_0}}$ using these point errors. Because we are using $d_{min_0}$ as an approximation to $\\delta$, $\\sigma_{d_{min_0}}$ will be an approximation to $\\sigma_{\\delta}$ and so we will keep terms only to linear order in $\\delta$.\n",
    "\n",
    "Since $X$ and $Y$ only enter through $\\rho$ the first step we take is to calculate $\\sigma_{\\rho}$:"
   ]
  },
  {
   "cell_type": "code",
   "execution_count": 23,
   "metadata": {},
   "outputs": [],
   "source": [
    "sx0,sy0,sz0 = sp.symbols('\\sigma_{X_0} \\sigma_{Y_0} \\sigma_{Z_0}', real=True)"
   ]
  },
  {
   "cell_type": "code",
   "execution_count": 24,
   "metadata": {},
   "outputs": [
    {
     "data": {
      "image/png": "[encoded data removed]",
      "text/latex": [
       "$$\\sqrt{X_{0}^{2} + Y_{0}^{2}}$$"
      ],
      "text/plain": [
       "   _________________\n",
       "  ╱      2        2 \n",
       "╲╱  X_{0}  + Y_{0}  "
      ]
     },
     "execution_count": 24,
     "metadata": {},
     "output_type": "execute_result"
    }
   ],
   "source": [
    "rho_ = sp.sqrt(x0**2+y0**2)\n",
    "rho_"
   ]
  },
  {
   "cell_type": "code",
   "execution_count": 25,
   "metadata": {},
   "outputs": [
    {
     "data": {
      "image/png": "[encoded data removed]",
      "text/latex": [
       "$$\\frac{\\sqrt{X_{0}^{2} \\sigma_{X_0}^{2} + Y_{0}^{2} \\sigma_{Y_0}^{2}}}{\\sqrt{X_{0}^{2} + Y_{0}^{2}}}$$"
      ],
      "text/plain": [
       "   _____________________________________________\n",
       "  ╱      2             2        2             2 \n",
       "╲╱  X_{0} ⋅\\sigma_{X_0}  + Y_{0} ⋅\\sigma_{Y_0}  \n",
       "────────────────────────────────────────────────\n",
       "                 _________________              \n",
       "                ╱      2        2               \n",
       "              ╲╱  X_{0}  + Y_{0}                "
      ]
     },
     "execution_count": 25,
     "metadata": {},
     "output_type": "execute_result"
    }
   ],
   "source": [
    "sr = sp.simplify(sp.sqrt(sp.diff(rho_,x0)**2*sx0**2 + sp.diff(rho_,y0)**2*sy0**2))\n",
    "sr"
   ]
  },
  {
   "cell_type": "markdown",
   "metadata": {},
   "source": [
    "So that $\\sigma_{\\rho_0}$ is sensibly:\n",
    "\n",
    "$$\\frac{\\sqrt{X_0^2 \\sigma_{X_0}^2 + Y_0^2 \\sigma_{Y_0}^2}}{\\rho_0}$$"
   ]
  },
  {
   "cell_type": "markdown",
   "metadata": {},
   "source": [
    "To compute $\\sigma_{d_{min}}$ we can write:\n",
    "\n",
    "$$\\sigma_{d_{min}} = \\Bigg( \\bigg(\\frac{\\partial d_{min}}{\\partial Z_0}\\bigg)^2 \\sigma_{Z_0}^2 + \\bigg(\\frac{\\partial d_{min}}{\\partial \\rho_0} \\bigg)^2 \\sigma_{\\rho_0}^2 \\Bigg)^{\\frac{1}{2}} $$\n",
    "\n",
    "so we can look at the two derivatives individually, remembering that $d_{min}(\\rho) = S(\\rho) d_Z(\\rho) = S(\\rho) (Z_0 - conz(\\rho))$.\n",
    "\n",
    "It is clear that:\n",
    "\n",
    "$$\\frac{\\partial d_{min}}{\\partial Z_0} = S,$$\n",
    "\n",
    "and that \n",
    "\n",
    "$$\\frac{\\partial d_{min}}{\\partial \\rho_0} = \\frac{\\partial S}{\\partial \\rho_0} d_{Z_0} - \\frac{\\partial conz}{\\partial \\rho_0} S.$$\n",
    "\n",
    "We argue that we know $\\frac{\\partial S}{\\partial \\rho}$ does not enter at linear order in $\\delta$ because it corresponds to shifting which plane we are using for our linerization, and we have seen that a single linerization is exact to first order in $\\delta$. It would be nice to firm this up a bit.\n",
    "\n",
    "So we are left with:\n",
    "\n",
    "$$\\frac{\\partial d_{min}}{\\partial \\rho_0} = - \\frac{\\partial conz}{\\partial \\rho_0} S.$$"
   ]
  },
  {
   "cell_type": "code",
   "execution_count": 31,
   "metadata": {},
   "outputs": [
    {
     "data": {
      "image/png": "[encoded data removed]",
      "text/latex": [
       "$$- \\frac{\\rho \\sqrt{\\frac{R^{2} - \\rho^{2} k - \\rho^{2}}{R^{2} - \\rho^{2} k}} \\left(\\rho^{2} \\left(k + 1\\right) + 2 \\sqrt{R^{2} - \\rho^{2} \\left(k + 1\\right)} \\left(\\sqrt{R^{2} - \\rho^{2} \\left(k + 1\\right)} + \\left|{R}\\right|\\right)\\right) \\left|{R}\\right|}{R \\sqrt{R^{2} - \\rho^{2} \\left(k + 1\\right)} \\left(\\sqrt{R^{2} - \\rho^{2} \\left(k + 1\\right)} + \\left|{R}\\right|\\right)^{2}}$$"
      ],
      "text/plain": [
       "            ______________________                                            \n",
       "           ╱  2       2         2  ⎛                     ____________________ \n",
       "          ╱  R  - \\rho ⋅k - \\rho   ⎜    2               ╱  2       2          \n",
       "-\\rho⋅   ╱   ──────────────────── ⋅⎝\\rho ⋅(k + 1) + 2⋅╲╱  R  - \\rho ⋅(k + 1) ⋅\n",
       "        ╱         2       2                                                   \n",
       "      ╲╱         R  - \\rho ⋅k                                                 \n",
       "──────────────────────────────────────────────────────────────────────────────\n",
       "                                                                              \n",
       "                                  ____________________ ⎛   ___________________\n",
       "                                 ╱  2       2          ⎜  ╱  2       2        \n",
       "                             R⋅╲╱  R  - \\rho ⋅(k + 1) ⋅⎝╲╱  R  - \\rho ⋅(k + 1)\n",
       "\n",
       "                                     \n",
       "⎛   ____________________      ⎞⎞     \n",
       "⎜  ╱  2       2               ⎟⎟     \n",
       "⎝╲╱  R  - \\rho ⋅(k + 1)  + │R│⎠⎠⋅│R│ \n",
       "                                     \n",
       "                                     \n",
       "─────────────────────────────────────\n",
       "        2                            \n",
       "_      ⎞                             \n",
       "       ⎟                             \n",
       "  + │R│⎠                             "
      ]
     },
     "execution_count": 31,
     "metadata": {},
     "output_type": "execute_result"
    }
   ],
   "source": [
    "ddmindrho = (-slope*S)\n",
    "ddmindrho"
   ]
  },
  {
   "cell_type": "markdown",
   "metadata": {},
   "source": [
    "## Computational Steps\n",
    "\n",
    "Since we want to compute the above expressions many times, we want to find an efficient way of doing so. \n",
    "\n",
    "We need to compute $conz$ and $S$ to evaluate $d_{min}$ and we need to compute $S$ and $\\frac{\\partial d_{min}}{\\partial \\rho_0}$ (as a SymPy variable $ddmindrho$) to propagate the uncertainty.\n",
    "\n",
    "\n",
    "We could start by collecting a bunch of small pieces that are used many times:\n",
    "\n",
    "\n",
    "$$(k+1)$$"
   ]
  },
  {
   "cell_type": "code",
   "execution_count": null,
   "metadata": {},
   "outputs": [],
   "source": []
  }
 ],
 "metadata": {
  "kernelspec": {
   "display_name": "Python 3",
   "language": "python",
   "name": "python3"
  },
  "language_info": {
   "codemirror_mode": {
    "name": "ipython",
    "version": 3
   },
   "file_extension": ".py",
   "mimetype": "text/x-python",
   "name": "python",
   "nbconvert_exporter": "python",
   "pygments_lexer": "ipython3",
   "version": "3.6.8"
  }
 },
 "nbformat": 4,
 "nbformat_minor": 2
}
